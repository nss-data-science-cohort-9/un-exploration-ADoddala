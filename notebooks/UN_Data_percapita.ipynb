{
 "cells": [
  {
   "cell_type": "markdown",
   "id": "27754f1c-9944-4428-94d2-a513ab2ed3b2",
   "metadata": {},
   "source": [
    "## An Exploration of UN data\n",
    "In this project, you'll be doing some exploratory analysis on two country-level metrics, gross domestic product (GDP) per capita and overall life expectancy. After completing the guided practice section, you will have a chance to find some additional data and do some more exploring of your own."
   ]
  },
  {
   "cell_type": "code",
   "execution_count": 62,
   "id": "4233af5a-4ae2-4aee-9d4c-0ad8b9dcb387",
   "metadata": {},
   "outputs": [],
   "source": [
    "import pandas as pd\n",
    "import numpy as np\n",
    "import matplotlib.pyplot as plt\n",
    "import seaborn as sns"
   ]
  },
  {
   "cell_type": "code",
   "execution_count": 63,
   "id": "f3a02f5c-f721-45d9-85e9-f00d054c5616",
   "metadata": {},
   "outputs": [
    {
     "data": {
      "text/html": [
       "<div>\n",
       "<style scoped>\n",
       "    .dataframe tbody tr th:only-of-type {\n",
       "        vertical-align: middle;\n",
       "    }\n",
       "\n",
       "    .dataframe tbody tr th {\n",
       "        vertical-align: top;\n",
       "    }\n",
       "\n",
       "    .dataframe thead th {\n",
       "        text-align: right;\n",
       "    }\n",
       "</style>\n",
       "<table border=\"1\" class=\"dataframe\">\n",
       "  <thead>\n",
       "    <tr style=\"text-align: right;\">\n",
       "      <th></th>\n",
       "      <th>Country or Area</th>\n",
       "      <th>Year</th>\n",
       "      <th>Value</th>\n",
       "      <th>Value Footnotes</th>\n",
       "    </tr>\n",
       "  </thead>\n",
       "  <tbody>\n",
       "    <tr>\n",
       "      <th>0</th>\n",
       "      <td>Afghanistan</td>\n",
       "      <td>2023</td>\n",
       "      <td>1992.424394</td>\n",
       "      <td>NaN</td>\n",
       "    </tr>\n",
       "    <tr>\n",
       "      <th>1</th>\n",
       "      <td>Afghanistan</td>\n",
       "      <td>2022</td>\n",
       "      <td>1981.710168</td>\n",
       "      <td>NaN</td>\n",
       "    </tr>\n",
       "    <tr>\n",
       "      <th>2</th>\n",
       "      <td>Afghanistan</td>\n",
       "      <td>2021</td>\n",
       "      <td>2144.166570</td>\n",
       "      <td>NaN</td>\n",
       "    </tr>\n",
       "    <tr>\n",
       "      <th>3</th>\n",
       "      <td>Afghanistan</td>\n",
       "      <td>2020</td>\n",
       "      <td>2769.685745</td>\n",
       "      <td>NaN</td>\n",
       "    </tr>\n",
       "    <tr>\n",
       "      <th>4</th>\n",
       "      <td>Afghanistan</td>\n",
       "      <td>2019</td>\n",
       "      <td>2927.245144</td>\n",
       "      <td>NaN</td>\n",
       "    </tr>\n",
       "    <tr>\n",
       "      <th>5</th>\n",
       "      <td>Afghanistan</td>\n",
       "      <td>2018</td>\n",
       "      <td>2902.392113</td>\n",
       "      <td>NaN</td>\n",
       "    </tr>\n",
       "    <tr>\n",
       "      <th>6</th>\n",
       "      <td>Afghanistan</td>\n",
       "      <td>2017</td>\n",
       "      <td>2952.998916</td>\n",
       "      <td>NaN</td>\n",
       "    </tr>\n",
       "    <tr>\n",
       "      <th>7</th>\n",
       "      <td>Afghanistan</td>\n",
       "      <td>2016</td>\n",
       "      <td>2958.785399</td>\n",
       "      <td>NaN</td>\n",
       "    </tr>\n",
       "    <tr>\n",
       "      <th>8</th>\n",
       "      <td>Afghanistan</td>\n",
       "      <td>2015</td>\n",
       "      <td>2967.692067</td>\n",
       "      <td>NaN</td>\n",
       "    </tr>\n",
       "    <tr>\n",
       "      <th>9</th>\n",
       "      <td>Afghanistan</td>\n",
       "      <td>2014</td>\n",
       "      <td>3017.942544</td>\n",
       "      <td>NaN</td>\n",
       "    </tr>\n",
       "  </tbody>\n",
       "</table>\n",
       "</div>"
      ],
      "text/plain": [
       "  Country or Area  Year        Value  Value Footnotes\n",
       "0     Afghanistan  2023  1992.424394              NaN\n",
       "1     Afghanistan  2022  1981.710168              NaN\n",
       "2     Afghanistan  2021  2144.166570              NaN\n",
       "3     Afghanistan  2020  2769.685745              NaN\n",
       "4     Afghanistan  2019  2927.245144              NaN\n",
       "5     Afghanistan  2018  2902.392113              NaN\n",
       "6     Afghanistan  2017  2952.998916              NaN\n",
       "7     Afghanistan  2016  2958.785399              NaN\n",
       "8     Afghanistan  2015  2967.692067              NaN\n",
       "9     Afghanistan  2014  3017.942544              NaN"
      ]
     },
     "execution_count": 63,
     "metadata": {},
     "output_type": "execute_result"
    }
   ],
   "source": [
    "gdp_df = pd.read_csv(\"../data/gdp_per_capita.csv.csv\")\n",
    "gdp_df.head(10)"
   ]
  },
  {
   "cell_type": "markdown",
   "id": "437cf970-1e64-408b-a73a-335acef16c93",
   "metadata": {},
   "source": [
    "5.Drop the 'Value Footnotes' column, and rename the remaining columns to 'Country', 'Year', and 'GDP_Per_Capita."
   ]
  },
  {
   "cell_type": "code",
   "execution_count": 64,
   "id": "f0eb5e37-c6d8-476e-87a7-f01308e538fb",
   "metadata": {},
   "outputs": [],
   "source": [
    "\"Drop the 'Value Footnotes' column\"\n",
    "gdp_df = gdp_df.drop(columns = \"Value Footnotes\")"
   ]
  },
  {
   "cell_type": "code",
   "execution_count": 65,
   "id": "c1e9b1db-3c44-4a8b-b892-5bb88dc03884",
   "metadata": {},
   "outputs": [],
   "source": [
    "gdp_df = gdp_df.rename(columns={'Country or Area':'Country','Year':'Year', 'Value':'GDP_Per_Capita'})"
   ]
  },
  {
   "cell_type": "markdown",
   "id": "b173773f-e498-4ddd-9066-26aab91ac4e6",
   "metadata": {},
   "source": [
    "6. How many rows and columns does gdp_df have? What are the data types of its columns? If any of the columns are not the expected types, figure out why and fix it."
   ]
  },
  {
   "cell_type": "code",
   "execution_count": 66,
   "id": "e03a1346-5003-484c-bf87-8706fbb81332",
   "metadata": {},
   "outputs": [
    {
     "name": "stdout",
     "output_type": "stream",
     "text": [
      "<class 'pandas.core.frame.DataFrame'>\n",
      "RangeIndex: 8219 entries, 0 to 8218\n",
      "Data columns (total 3 columns):\n",
      " #   Column          Non-Null Count  Dtype  \n",
      "---  ------          --------------  -----  \n",
      " 0   Country         8219 non-null   object \n",
      " 1   Year            8219 non-null   int64  \n",
      " 2   GDP_Per_Capita  8219 non-null   float64\n",
      "dtypes: float64(1), int64(1), object(1)\n",
      "memory usage: 192.8+ KB\n"
     ]
    }
   ],
   "source": [
    "gdp_df.info()"
   ]
  },
  {
   "cell_type": "code",
   "execution_count": 67,
   "id": "1b6f3dbd-7534-437b-b30a-f4869d3484d1",
   "metadata": {},
   "outputs": [],
   "source": [
    "gdp_df['Year']=gdp_df['Year'].astype(str) "
   ]
  },
  {
   "cell_type": "markdown",
   "id": "97d9c34b-e99f-4a13-a6d0-91f396ac09ba",
   "metadata": {},
   "source": [
    "gdp_df has 8219 rows and 3 columns. Data type of \"Country\" is object, \"year\" is int and \"GDP_Per_Capita\" is given as float. \n",
    "\"Year\" data type has been changed to \"string\"."
   ]
  },
  {
   "cell_type": "markdown",
   "id": "dc98a9aa-1156-4422-9b20-712744cbf79b",
   "metadata": {},
   "source": [
    "7. Which years are represented in this dataset? Take a look at the number of observations per year. What do you notice?"
   ]
  },
  {
   "cell_type": "code",
   "execution_count": 68,
   "id": "d4109dbf-71ff-4d65-864c-0e4f86f97c94",
   "metadata": {},
   "outputs": [
    {
     "data": {
      "text/plain": [
       "array(['2023', '2022', '2021', '2020', '2019', '2018', '2017', '2016',\n",
       "       '2015', '2014', '2013', '2012', '2011', '2010', '2009', '2008',\n",
       "       '2007', '2006', '2005', '2004', '2003', '2002', '2001', '2000',\n",
       "       '1999', '1998', '1997', '1996', '1995', '1994', '1993', '1992',\n",
       "       '1991', '1990'], dtype=object)"
      ]
     },
     "execution_count": 68,
     "metadata": {},
     "output_type": "execute_result"
    }
   ],
   "source": [
    "gdp_df['Year'].unique()"
   ]
  },
  {
   "cell_type": "code",
   "execution_count": 69,
   "id": "2ce6f531-9337-4c32-affe-f5c0f0aaefba",
   "metadata": {},
   "outputs": [
    {
     "data": {
      "text/plain": [
       "Year\n",
       "2021    247\n",
       "2020    247\n",
       "2019    247\n",
       "2018    247\n",
       "2017    247\n",
       "2016    247\n",
       "2015    247\n",
       "2014    247\n",
       "2013    247\n",
       "2012    246\n",
       "2022    246\n",
       "2011    246\n",
       "2010    245\n",
       "2009    245\n",
       "2008    244\n",
       "2007    242\n",
       "2006    242\n",
       "2005    241\n",
       "2004    241\n",
       "2003    241\n",
       "2002    241\n",
       "2000    240\n",
       "2023    240\n",
       "2001    240\n",
       "1999    238\n",
       "1998    238\n",
       "1997    238\n",
       "1996    236\n",
       "1995    236\n",
       "1994    235\n",
       "1993    234\n",
       "1992    234\n",
       "1991    234\n",
       "1990    233\n",
       "Name: count, dtype: int64"
      ]
     },
     "execution_count": 69,
     "metadata": {},
     "output_type": "execute_result"
    }
   ],
   "source": [
    "gdp_df['Year'].value_counts()"
   ]
  },
  {
   "cell_type": "markdown",
   "id": "7361e1c5-16c1-4e5a-90ce-5cd6d023b065",
   "metadata": {},
   "source": [
    "('2023', '2022', '2021', '2020', '2019', '2018', '2017', '2016','2015', '2014', '2013', '2012', '2011', '2010', '2009', '2008','2007', '2006', '2005', '2004', '2003', '2002', '2001', '2000','1999', '1998', '1997', '1996', '1995', '1994', '1993', '1992','1991', '1990') are represented in this data set.\n",
    "The number of observations per each year are between 233 to 247 and the years and the number of observations are increasing every year."
   ]
  },
  {
   "cell_type": "markdown",
   "id": "164b306a-b1bc-46ac-8bbb-38c758cb04da",
   "metadata": {},
   "source": [
    "8. How many countries are represented in this dataset? Which countries are least represented in the dataset? Why do you think these countries have so few observations?"
   ]
  },
  {
   "cell_type": "code",
   "execution_count": 104,
   "id": "a2506596-434a-4c26-8a27-b375414349ad",
   "metadata": {},
   "outputs": [
    {
     "data": {
      "text/plain": [
       "'Djibouti'"
      ]
     },
     "execution_count": 104,
     "metadata": {},
     "output_type": "execute_result"
    }
   ],
   "source": [
    "gdp_df['Country'].value_counts().nsmallest(1, keep =\"all\").index[0]"
   ]
  },
  {
   "cell_type": "markdown",
   "id": "72f13d03-b037-4805-80ca-ccb0871df4b0",
   "metadata": {},
   "source": [
    "9. Create a new dataframe by subsetting `gdp_df` to just the year 2021. Call this new dataframe `gdp_2021`."
   ]
  },
  {
   "cell_type": "code",
   "execution_count": 94,
   "id": "b9fb7334-7b1a-4a10-810a-f29a4df2b447",
   "metadata": {},
   "outputs": [],
   "source": [
    "gdp_2021 = gdp_df[gdp_df['Year'] == '2021'] \n"
   ]
  },
  {
   "cell_type": "code",
   "execution_count": 95,
   "id": "4925b227-3c22-4102-b5be-43d29830834f",
   "metadata": {},
   "outputs": [
    {
     "data": {
      "text/html": [
       "<div>\n",
       "<style scoped>\n",
       "    .dataframe tbody tr th:only-of-type {\n",
       "        vertical-align: middle;\n",
       "    }\n",
       "\n",
       "    .dataframe tbody tr th {\n",
       "        vertical-align: top;\n",
       "    }\n",
       "\n",
       "    .dataframe thead th {\n",
       "        text-align: right;\n",
       "    }\n",
       "</style>\n",
       "<table border=\"1\" class=\"dataframe\">\n",
       "  <thead>\n",
       "    <tr style=\"text-align: right;\">\n",
       "      <th></th>\n",
       "      <th>Country</th>\n",
       "      <th>Year</th>\n",
       "      <th>GDP_Per_Capita</th>\n",
       "    </tr>\n",
       "  </thead>\n",
       "  <tbody>\n",
       "    <tr>\n",
       "      <th>2</th>\n",
       "      <td>Afghanistan</td>\n",
       "      <td>2021</td>\n",
       "      <td>2144.166570</td>\n",
       "    </tr>\n",
       "    <tr>\n",
       "      <th>26</th>\n",
       "      <td>Africa Eastern and Southern</td>\n",
       "      <td>2021</td>\n",
       "      <td>3934.287267</td>\n",
       "    </tr>\n",
       "    <tr>\n",
       "      <th>60</th>\n",
       "      <td>Africa Western and Central</td>\n",
       "      <td>2021</td>\n",
       "      <td>4698.926894</td>\n",
       "    </tr>\n",
       "    <tr>\n",
       "      <th>94</th>\n",
       "      <td>Albania</td>\n",
       "      <td>2021</td>\n",
       "      <td>16113.136519</td>\n",
       "    </tr>\n",
       "    <tr>\n",
       "      <th>128</th>\n",
       "      <td>Algeria</td>\n",
       "      <td>2021</td>\n",
       "      <td>14496.865470</td>\n",
       "    </tr>\n",
       "  </tbody>\n",
       "</table>\n",
       "</div>"
      ],
      "text/plain": [
       "                         Country  Year  GDP_Per_Capita\n",
       "2                    Afghanistan  2021     2144.166570\n",
       "26   Africa Eastern and Southern  2021     3934.287267\n",
       "60    Africa Western and Central  2021     4698.926894\n",
       "94                       Albania  2021    16113.136519\n",
       "128                      Algeria  2021    14496.865470"
      ]
     },
     "execution_count": 95,
     "metadata": {},
     "output_type": "execute_result"
    }
   ],
   "source": [
    "gdp_2021.head()"
   ]
  },
  {
   "cell_type": "markdown",
   "id": "b61f0769-a16d-471e-a1f3-8bcb6d1ca67d",
   "metadata": {},
   "source": [
    "10. Use `.describe()` to find the summary statistics for GDP per capita in 2021. "
   ]
  },
  {
   "cell_type": "code",
   "execution_count": 78,
   "id": "91b254c5-87f8-4551-a1f5-b5dd67909356",
   "metadata": {},
   "outputs": [
    {
     "data": {
      "text/plain": [
       "count       247.000000\n",
       "mean      24478.517262\n",
       "std       24601.525764\n",
       "min         836.665571\n",
       "25%        5996.532844\n",
       "50%       15900.976581\n",
       "75%       37298.776853\n",
       "max      135379.291201\n",
       "Name: GDP_Per_Capita, dtype: float64"
      ]
     },
     "execution_count": 78,
     "metadata": {},
     "output_type": "execute_result"
    }
   ],
   "source": [
    "gdp_2021['GDP_Per_Capita'].describe()"
   ]
  },
  {
   "cell_type": "markdown",
   "id": "5d6c82fc-6783-47f7-a00d-674633d59995",
   "metadata": {},
   "source": [
    "11. Create a histogram of GDP Per Capita numbers for 2021 (you may wish to adjust the number of bins for your histogram). How would you describe the shape of the distribution?"
   ]
  },
  {
   "cell_type": "code",
   "execution_count": 89,
   "id": "5df7a19c-9b97-4c7c-bd44-ec1c335b5d72",
   "metadata": {},
   "outputs": [
    {
     "data": {
      "image/png": "[encoded data removed]",
      "text/plain": [
       "<Figure size 640x480 with 1 Axes>"
      ]
     },
     "metadata": {},
     "output_type": "display_data"
    }
   ],
   "source": [
    "gdp_2021['GDP_Per_Capita'].hist(bins = 20)\n",
    "plt.title('GDP Per Capita numbers for 2021');"
   ]
  },
  {
   "cell_type": "markdown",
   "id": "7dd3051d-28fd-47ab-bac1-9e15eb79e817",
   "metadata": {},
   "source": [
    "it's kind of right skewed distribution."
   ]
  },
  {
   "cell_type": "markdown",
   "id": "22189b34-6afd-4ec9-b065-74d0b6ffeadc",
   "metadata": {},
   "source": [
    "12. Find the top 5 counties and bottom 5 countries by GDP per capita in 2021."
   ]
  },
  {
   "cell_type": "code",
   "execution_count": 91,
   "id": "0b7d349a-bed5-4533-8b19-fb9373d94000",
   "metadata": {},
   "outputs": [
    {
     "data": {
      "text/html": [
       "<div>\n",
       "<style scoped>\n",
       "    .dataframe tbody tr th:only-of-type {\n",
       "        vertical-align: middle;\n",
       "    }\n",
       "\n",
       "    .dataframe tbody tr th {\n",
       "        vertical-align: top;\n",
       "    }\n",
       "\n",
       "    .dataframe thead th {\n",
       "        text-align: right;\n",
       "    }\n",
       "</style>\n",
       "<table border=\"1\" class=\"dataframe\">\n",
       "  <thead>\n",
       "    <tr style=\"text-align: right;\">\n",
       "      <th></th>\n",
       "      <th>Country</th>\n",
       "      <th>Year</th>\n",
       "      <th>GDP_Per_Capita</th>\n",
       "    </tr>\n",
       "  </thead>\n",
       "  <tbody>\n",
       "    <tr>\n",
       "      <th>4425</th>\n",
       "      <td>Luxembourg</td>\n",
       "      <td>2021</td>\n",
       "      <td>135379.291201</td>\n",
       "    </tr>\n",
       "    <tr>\n",
       "      <th>6513</th>\n",
       "      <td>Singapore</td>\n",
       "      <td>2021</td>\n",
       "      <td>131864.092336</td>\n",
       "    </tr>\n",
       "    <tr>\n",
       "      <th>3492</th>\n",
       "      <td>Ireland</td>\n",
       "      <td>2021</td>\n",
       "      <td>118594.746862</td>\n",
       "    </tr>\n",
       "    <tr>\n",
       "      <th>6118</th>\n",
       "      <td>Qatar</td>\n",
       "      <td>2021</td>\n",
       "      <td>116832.570290</td>\n",
       "    </tr>\n",
       "    <tr>\n",
       "      <th>740</th>\n",
       "      <td>Bermuda</td>\n",
       "      <td>2021</td>\n",
       "      <td>92276.234605</td>\n",
       "    </tr>\n",
       "  </tbody>\n",
       "</table>\n",
       "</div>"
      ],
      "text/plain": [
       "         Country  Year  GDP_Per_Capita\n",
       "4425  Luxembourg  2021   135379.291201\n",
       "6513   Singapore  2021   131864.092336\n",
       "3492     Ireland  2021   118594.746862\n",
       "6118       Qatar  2021   116832.570290\n",
       "740      Bermuda  2021    92276.234605"
      ]
     },
     "execution_count": 91,
     "metadata": {},
     "output_type": "execute_result"
    }
   ],
   "source": [
    "gdp_2021.nlargest(5,'GDP_Per_Capita')"
   ]
  },
  {
   "cell_type": "code",
   "execution_count": 92,
   "id": "3793ff6b-6410-47e6-96e7-0da47fc8169d",
   "metadata": {},
   "outputs": [
    {
     "data": {
      "text/html": [
       "<div>\n",
       "<style scoped>\n",
       "    .dataframe tbody tr th:only-of-type {\n",
       "        vertical-align: middle;\n",
       "    }\n",
       "\n",
       "    .dataframe tbody tr th {\n",
       "        vertical-align: top;\n",
       "    }\n",
       "\n",
       "    .dataframe thead th {\n",
       "        text-align: right;\n",
       "    }\n",
       "</style>\n",
       "<table border=\"1\" class=\"dataframe\">\n",
       "  <thead>\n",
       "    <tr style=\"text-align: right;\">\n",
       "      <th></th>\n",
       "      <th>Country</th>\n",
       "      <th>Year</th>\n",
       "      <th>GDP_Per_Capita</th>\n",
       "    </tr>\n",
       "  </thead>\n",
       "  <tbody>\n",
       "    <tr>\n",
       "      <th>1045</th>\n",
       "      <td>Burundi</td>\n",
       "      <td>2021</td>\n",
       "      <td>836.665571</td>\n",
       "    </tr>\n",
       "    <tr>\n",
       "      <th>1301</th>\n",
       "      <td>Central African Republic</td>\n",
       "      <td>2021</td>\n",
       "      <td>1128.552380</td>\n",
       "    </tr>\n",
       "    <tr>\n",
       "      <th>1733</th>\n",
       "      <td>Dem. Rep. Congo</td>\n",
       "      <td>2021</td>\n",
       "      <td>1313.618218</td>\n",
       "    </tr>\n",
       "    <tr>\n",
       "      <th>6698</th>\n",
       "      <td>Somalia</td>\n",
       "      <td>2021</td>\n",
       "      <td>1392.464262</td>\n",
       "    </tr>\n",
       "    <tr>\n",
       "      <th>5132</th>\n",
       "      <td>Mozambique</td>\n",
       "      <td>2021</td>\n",
       "      <td>1457.235409</td>\n",
       "    </tr>\n",
       "  </tbody>\n",
       "</table>\n",
       "</div>"
      ],
      "text/plain": [
       "                       Country  Year  GDP_Per_Capita\n",
       "1045                   Burundi  2021      836.665571\n",
       "1301  Central African Republic  2021     1128.552380\n",
       "1733           Dem. Rep. Congo  2021     1313.618218\n",
       "6698                   Somalia  2021     1392.464262\n",
       "5132                Mozambique  2021     1457.235409"
      ]
     },
     "execution_count": 92,
     "metadata": {},
     "output_type": "execute_result"
    }
   ],
   "source": [
    "gdp_2021.nsmallest(5,'GDP_Per_Capita')"
   ]
  },
  {
   "cell_type": "markdown",
   "id": "f661da78-c308-4dcf-b70e-7c5cf4c3f1e8",
   "metadata": {},
   "source": [
    "13. Now, return to the full dataset, `gdp_df`. Pivot the data for 1990 and 2021 (using the pandas `.pivot_table()` method or another method) so that each row corresponds to a country, each column corresponds to a year, and the values in the table give the GDP_Per_Capita amount. Drop any rows that are missing values for either 1990 or 2021. Save the result to a dataframe named `gdp_pivoted`."
   ]
  },
  {
   "cell_type": "code",
   "execution_count": 121,
   "id": "d5984267-3c70-4096-bef7-30abedf5d37e",
   "metadata": {},
   "outputs": [],
   "source": [
    "gdp_1990_2021 = gdp_df[gdp_df['Year'].isin([\"1990\",\"2021\"])]\n",
    "gdp_1990_2021\n",
    "gdp_1990_2021['Year'].unique()\n",
    "gdp_pivoted = gdp_1990_2021.pivot_table(index = \"Country\", columns=\"Year\", values = \"GDP_Per_Capita\")\n"
   ]
  },
  {
   "cell_type": "code",
   "execution_count": 122,
   "id": "54f5d410-d2e2-41c6-bb47-311457acba82",
   "metadata": {},
   "outputs": [
    {
     "data": {
      "text/html": [
       "<div>\n",
       "<style scoped>\n",
       "    .dataframe tbody tr th:only-of-type {\n",
       "        vertical-align: middle;\n",
       "    }\n",
       "\n",
       "    .dataframe tbody tr th {\n",
       "        vertical-align: top;\n",
       "    }\n",
       "\n",
       "    .dataframe thead th {\n",
       "        text-align: right;\n",
       "    }\n",
       "</style>\n",
       "<table border=\"1\" class=\"dataframe\">\n",
       "  <thead>\n",
       "    <tr style=\"text-align: right;\">\n",
       "      <th>Year</th>\n",
       "      <th>1990</th>\n",
       "      <th>2021</th>\n",
       "    </tr>\n",
       "    <tr>\n",
       "      <th>Country</th>\n",
       "      <th></th>\n",
       "      <th></th>\n",
       "    </tr>\n",
       "  </thead>\n",
       "  <tbody>\n",
       "    <tr>\n",
       "      <th>Afghanistan</th>\n",
       "      <td>NaN</td>\n",
       "      <td>2144.166570</td>\n",
       "    </tr>\n",
       "    <tr>\n",
       "      <th>Africa Eastern and Southern</th>\n",
       "      <td>3386.854480</td>\n",
       "      <td>3934.287267</td>\n",
       "    </tr>\n",
       "    <tr>\n",
       "      <th>Africa Western and Central</th>\n",
       "      <td>3299.401375</td>\n",
       "      <td>4698.926894</td>\n",
       "    </tr>\n",
       "    <tr>\n",
       "      <th>Albania</th>\n",
       "      <td>5327.747458</td>\n",
       "      <td>16113.136519</td>\n",
       "    </tr>\n",
       "    <tr>\n",
       "      <th>Algeria</th>\n",
       "      <td>11728.545729</td>\n",
       "      <td>14496.865470</td>\n",
       "    </tr>\n",
       "    <tr>\n",
       "      <th>...</th>\n",
       "      <td>...</td>\n",
       "      <td>...</td>\n",
       "    </tr>\n",
       "    <tr>\n",
       "      <th>Virgin Islands</th>\n",
       "      <td>NaN</td>\n",
       "      <td>46893.549699</td>\n",
       "    </tr>\n",
       "    <tr>\n",
       "      <th>West Bank and Gaza</th>\n",
       "      <td>NaN</td>\n",
       "      <td>5663.121607</td>\n",
       "    </tr>\n",
       "    <tr>\n",
       "      <th>World</th>\n",
       "      <td>11207.386344</td>\n",
       "      <td>19637.823230</td>\n",
       "    </tr>\n",
       "    <tr>\n",
       "      <th>Zambia</th>\n",
       "      <td>2425.111287</td>\n",
       "      <td>3503.034914</td>\n",
       "    </tr>\n",
       "    <tr>\n",
       "      <th>Zimbabwe</th>\n",
       "      <td>4013.299059</td>\n",
       "      <td>3184.785451</td>\n",
       "    </tr>\n",
       "  </tbody>\n",
       "</table>\n",
       "<p>247 rows × 2 columns</p>\n",
       "</div>"
      ],
      "text/plain": [
       "Year                                 1990          2021\n",
       "Country                                                \n",
       "Afghanistan                           NaN   2144.166570\n",
       "Africa Eastern and Southern   3386.854480   3934.287267\n",
       "Africa Western and Central    3299.401375   4698.926894\n",
       "Albania                       5327.747458  16113.136519\n",
       "Algeria                      11728.545729  14496.865470\n",
       "...                                   ...           ...\n",
       "Virgin Islands                        NaN  46893.549699\n",
       "West Bank and Gaza                    NaN   5663.121607\n",
       "World                        11207.386344  19637.823230\n",
       "Zambia                        2425.111287   3503.034914\n",
       "Zimbabwe                      4013.299059   3184.785451\n",
       "\n",
       "[247 rows x 2 columns]"
      ]
     },
     "execution_count": 122,
     "metadata": {},
     "output_type": "execute_result"
    }
   ],
   "source": [
    "\n",
    "gdp_pivoted"
   ]
  },
  {
   "cell_type": "code",
   "execution_count": 123,
   "id": "2debe255-1ccf-465e-9926-fd3bc358ae34",
   "metadata": {},
   "outputs": [
    {
     "data": {
      "text/html": [
       "<div>\n",
       "<style scoped>\n",
       "    .dataframe tbody tr th:only-of-type {\n",
       "        vertical-align: middle;\n",
       "    }\n",
       "\n",
       "    .dataframe tbody tr th {\n",
       "        vertical-align: top;\n",
       "    }\n",
       "\n",
       "    .dataframe thead th {\n",
       "        text-align: right;\n",
       "    }\n",
       "</style>\n",
       "<table border=\"1\" class=\"dataframe\">\n",
       "  <thead>\n",
       "    <tr style=\"text-align: right;\">\n",
       "      <th>Year</th>\n",
       "      <th>1990</th>\n",
       "      <th>2021</th>\n",
       "    </tr>\n",
       "    <tr>\n",
       "      <th>Country</th>\n",
       "      <th></th>\n",
       "      <th></th>\n",
       "    </tr>\n",
       "  </thead>\n",
       "  <tbody>\n",
       "    <tr>\n",
       "      <th>Africa Eastern and Southern</th>\n",
       "      <td>3386.854480</td>\n",
       "      <td>3934.287267</td>\n",
       "    </tr>\n",
       "    <tr>\n",
       "      <th>Africa Western and Central</th>\n",
       "      <td>3299.401375</td>\n",
       "      <td>4698.926894</td>\n",
       "    </tr>\n",
       "    <tr>\n",
       "      <th>Albania</th>\n",
       "      <td>5327.747458</td>\n",
       "      <td>16113.136519</td>\n",
       "    </tr>\n",
       "    <tr>\n",
       "      <th>Algeria</th>\n",
       "      <td>11728.545729</td>\n",
       "      <td>14496.865470</td>\n",
       "    </tr>\n",
       "    <tr>\n",
       "      <th>Andorra</th>\n",
       "      <td>50036.300776</td>\n",
       "      <td>59332.202910</td>\n",
       "    </tr>\n",
       "    <tr>\n",
       "      <th>...</th>\n",
       "      <td>...</td>\n",
       "      <td>...</td>\n",
       "    </tr>\n",
       "    <tr>\n",
       "      <th>Vanuatu</th>\n",
       "      <td>3101.680551</td>\n",
       "      <td>3135.836649</td>\n",
       "    </tr>\n",
       "    <tr>\n",
       "      <th>Viet Nam</th>\n",
       "      <td>2467.964601</td>\n",
       "      <td>12048.901994</td>\n",
       "    </tr>\n",
       "    <tr>\n",
       "      <th>World</th>\n",
       "      <td>11207.386344</td>\n",
       "      <td>19637.823230</td>\n",
       "    </tr>\n",
       "    <tr>\n",
       "      <th>Zambia</th>\n",
       "      <td>2425.111287</td>\n",
       "      <td>3503.034914</td>\n",
       "    </tr>\n",
       "    <tr>\n",
       "      <th>Zimbabwe</th>\n",
       "      <td>4013.299059</td>\n",
       "      <td>3184.785451</td>\n",
       "    </tr>\n",
       "  </tbody>\n",
       "</table>\n",
       "<p>233 rows × 2 columns</p>\n",
       "</div>"
      ],
      "text/plain": [
       "Year                                 1990          2021\n",
       "Country                                                \n",
       "Africa Eastern and Southern   3386.854480   3934.287267\n",
       "Africa Western and Central    3299.401375   4698.926894\n",
       "Albania                       5327.747458  16113.136519\n",
       "Algeria                      11728.545729  14496.865470\n",
       "Andorra                      50036.300776  59332.202910\n",
       "...                                   ...           ...\n",
       "Vanuatu                       3101.680551   3135.836649\n",
       "Viet Nam                      2467.964601  12048.901994\n",
       "World                        11207.386344  19637.823230\n",
       "Zambia                        2425.111287   3503.034914\n",
       "Zimbabwe                      4013.299059   3184.785451\n",
       "\n",
       "[233 rows x 2 columns]"
      ]
     },
     "execution_count": 123,
     "metadata": {},
     "output_type": "execute_result"
    }
   ],
   "source": [
    "gdp_pivoted = gdp_pivoted.dropna()\n",
    "gdp_pivoted"
   ]
  },
  {
   "cell_type": "markdown",
   "id": "409e3fcc-56c8-4844-80f3-1ccaf215e3e3",
   "metadata": {},
   "source": [
    "14. Create a new column in `gdp_pivoted` named `Percent_Change`. This column should contain the percent change in GDP_Per_Capita from 1990 to 2021. Hint: Percent change is calculated as 100*(New Value - Old Value) / Old Value."
   ]
  },
  {
   "cell_type": "code",
   "execution_count": null,
   "id": "37bdc222-1fdf-409a-8dc6-ecfb1214a7e4",
   "metadata": {},
   "outputs": [],
   "source": [
    "gdp_pivoted[\"Percent_Change\"] = gdp_pivoted."
   ]
  },
  {
   "cell_type": "markdown",
   "id": "e1b5b6b5-7a17-495a-be5d-5daf6f4c9df0",
   "metadata": {},
   "source": [
    "15. How many countries experienced a negative percent change in GDP per capita from 1990 to 2021?"
   ]
  },
  {
   "cell_type": "markdown",
   "id": "71b0db91-6b6f-40b9-81dd-62f8216c47b7",
   "metadata": {},
   "source": [
    "16. Which country had the highest % change in GDP per capita? Create a line plot showing this country's GDP per capita for all years from 1990 to 2018. Create another showing the country with the second highest % change in GDP. How do the trends in these countries compare?  \n",
    "**Bonus:** Put both line charts on the same plot."
   ]
  },
  {
   "cell_type": "markdown",
   "id": "2c51771d-ba94-4ffc-ac89-c8dd7ba55b58",
   "metadata": {},
   "source": [
    "17. Read in continents.csv contained in the `data` folder into a new dataframe called `continents`. We will be using this dataframe to add a new column to our dataset."
   ]
  },
  {
   "cell_type": "markdown",
   "id": "74db2d9c-9c44-4c33-957a-17544eb4a7e6",
   "metadata": {},
   "source": [
    "18. Merge gdp_df and continents. Keep only the countries that appear in both data frames. Save the result back to gdp_df."
   ]
  },
  {
   "cell_type": "markdown",
   "id": "ef1e63ad-db6d-4723-aaf9-83d0e47ceaa7",
   "metadata": {},
   "source": [
    "19. Determine the number of countries per continent. Create a bar chart showing this."
   ]
  },
  {
   "cell_type": "markdown",
   "id": "fdc02607-5571-4ef5-8c17-966c55089150",
   "metadata": {},
   "source": [
    "20. Create a seaborn boxplot showing GDP per capita in 2021 split out by continent. What do you notice?"
   ]
  },
  {
   "cell_type": "markdown",
   "id": "48162245-5f4d-49de-98b3-265948c88973",
   "metadata": {},
   "source": [
    "21. Download the full csv containing Life expectancy at birth, total (years) from [https://data.worldbank.org/indicator/SP.DYN.LE00.IN?name_desc=false](https://data.worldbank.org/indicator/SP.DYN.LE00.IN?name_desc=false). Read this data into a DataFrame named `life_expectancy`. Note: When reading this dataset it, you may encounter an error. Modify your `read_csv` call to correct this **without modifying the original csv file**.\n",
    " "
   ]
  },
  {
   "cell_type": "markdown",
   "id": "4d647fd5-8675-4663-9548-1f54638ac7a9",
   "metadata": {},
   "source": [
    "22. Drop the Country Code, Indicator Name, and Indicator Code columns. Then use [`.melt()`](https://pandas.pydata.org/docs/reference/api/pandas.melt.html) to convert your data from wide to long. That is, instead of having one row per country and multiple colums per year, we want to have multiple rows per country and a single column for year. After melting, rename the columns to `Country`, `Year`, and `Life_Expectancy`."
   ]
  },
  {
   "cell_type": "markdown",
   "id": "6d244e74-43a7-4431-a07e-05ac41ac7b6d",
   "metadata": {},
   "source": [
    "23. What was the first country with a life expectancy to exceed 80?"
   ]
  },
  {
   "cell_type": "markdown",
   "id": "eec83308-a025-4d6c-8912-4ed687f6a4a5",
   "metadata": {},
   "source": [
    "24. Merge `gdp_df` and `life_expectancy`, keeping all countries and years that appear in both DataFrames. Save the result to a new DataFrame named `gdp_le`. If you get any errors in doing this, read them carefully and correct them. Look at the first five rows of your new data frame to confirm it merged correctly. Also, check the last five rows to make sure the data is clean and as expected."
   ]
  },
  {
   "cell_type": "markdown",
   "id": "4ec16e9c-f6c0-4c7f-be75-3679f15e4807",
   "metadata": {},
   "source": [
    "25. Create a new DataFrame, named `gdp_le_2021` by extracting data for the year 2021 from `gdp_le`. How many countries have a life expectancy of at least 80 in 2021?"
   ]
  },
  {
   "cell_type": "markdown",
   "id": "5e1b42be-8bcb-46a5-961d-6ea2026c5252",
   "metadata": {},
   "source": [
    "26. Find the countries that had the top 3 largest GDP per capita figures for 2021. Create a [seaborn FacetGrid](https://seaborn.pydata.org/generated/seaborn.FacetGrid.html) showing the change in life expectancy over time for these three countries. Each individual figure in the facet grid will represent a single country."
   ]
  },
  {
   "cell_type": "markdown",
   "id": "164cb620-468f-4be9-aef1-ff820ae3cec6",
   "metadata": {},
   "source": [
    "27. Create a scatter plot of Life Expectancy vs GDP per Capita for the year 2021. What do you notice?"
   ]
  },
  {
   "cell_type": "markdown",
   "id": "5a84d1d0-059d-4647-826a-eb8a161a4bd0",
   "metadata": {},
   "source": [
    "28. Find the correlation between Life Expectancy and GDP per Capita for the year 2021. What is the meaning of this number?"
   ]
  },
  {
   "cell_type": "markdown",
   "id": "5cda7a0c-bbc9-4512-8163-6bf97860df88",
   "metadata": {},
   "source": [
    "29. Add a column to `gdp_le_2021` and calculate the logarithm of GDP per capita. Find the correlation between the log of GDP per capita and life expectancy. How does this compare to the calculation in the previous part? Look at a scatter plot to see if the result of this calculation makes sense."
   ]
  },
  {
   "cell_type": "markdown",
   "id": "ffaa6b83-d7d4-49f9-8675-d350e55961c2",
   "metadata": {},
   "source": [
    "### Bonus: Solo Exploration:\n",
    "1. Choose and download another data set from the UN data [http://data.un.org/Explorer.aspx](http://data.un.org/Explorer.aspx) to explore. You may want to combine your new dataset with one or both of the datasets that you already worked with. Report any interesting correlations or trends that you find. "
   ]
  },
  {
   "cell_type": "markdown",
   "id": "e1b3d7c4-acdd-444c-843f-76cf315a522b",
   "metadata": {},
   "source": [
    "2.    If time allows, check out the plotly library to add additional interativity to your plots. [https://plotly.com/python/plotly-express/](https://plotly.com/python/plotly-express/)."
   ]
  }
 ],
 "metadata": {
  "kernelspec": {
   "display_name": "Python [conda env:base] *",
   "language": "python",
   "name": "conda-base-py"
  },
  "language_info": {
   "codemirror_mode": {
    "name": "ipython",
    "version": 3
   },
   "file_extension": ".py",
   "mimetype": "text/x-python",
   "name": "python",
   "nbconvert_exporter": "python",
   "pygments_lexer": "ipython3",
   "version": "3.13.5"
  }
 },
 "nbformat": 4,
 "nbformat_minor": 5
}
