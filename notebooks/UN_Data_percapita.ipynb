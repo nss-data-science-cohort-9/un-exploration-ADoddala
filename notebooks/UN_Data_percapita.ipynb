{
 "cells": [
  {
   "cell_type": "markdown",
   "id": "27754f1c-9944-4428-94d2-a513ab2ed3b2",
   "metadata": {},
   "source": [
    "## An Exploration of UN data\n",
    "In this project, you'll be doing some exploratory analysis on two country-level metrics, gross domestic product (GDP) per capita and overall life expectancy. After completing the guided practice section, you will have a chance to find some additional data and do some more exploring of your own."
   ]
  },
  {
   "cell_type": "code",
   "execution_count": 1,
   "id": "4233af5a-4ae2-4aee-9d4c-0ad8b9dcb387",
   "metadata": {},
   "outputs": [],
   "source": [
    "import pandas as pd\n",
    "import numpy as np\n",
    "import matplotlib.pyplot as plt\n",
    "import seaborn as sns\n",
    "import matplotlib.ticker as ticker"
   ]
  },
  {
   "cell_type": "markdown",
   "id": "4b1eb8b2-b438-4483-babf-80aa82bdf9e4",
   "metadata": {},
   "source": [
    "Using the pandas `read_csv()` function, read the GDP dataset into your notebook as a DataFrame called `gdp_df`. After reading it in, inspect the first 10 rows and then inspect the last 10 rows. "
   ]
  },
  {
   "cell_type": "code",
   "execution_count": 2,
   "id": "f3a02f5c-f721-45d9-85e9-f00d054c5616",
   "metadata": {},
   "outputs": [
    {
     "data": {
      "text/html": [
       "<div>\n",
       "<style scoped>\n",
       "    .dataframe tbody tr th:only-of-type {\n",
       "        vertical-align: middle;\n",
       "    }\n",
       "\n",
       "    .dataframe tbody tr th {\n",
       "        vertical-align: top;\n",
       "    }\n",
       "\n",
       "    .dataframe thead th {\n",
       "        text-align: right;\n",
       "    }\n",
       "</style>\n",
       "<table border=\"1\" class=\"dataframe\">\n",
       "  <thead>\n",
       "    <tr style=\"text-align: right;\">\n",
       "      <th></th>\n",
       "      <th>Country or Area</th>\n",
       "      <th>Year</th>\n",
       "      <th>Value</th>\n",
       "      <th>Value Footnotes</th>\n",
       "    </tr>\n",
       "  </thead>\n",
       "  <tbody>\n",
       "    <tr>\n",
       "      <th>0</th>\n",
       "      <td>Afghanistan</td>\n",
       "      <td>2023</td>\n",
       "      <td>1992.424394</td>\n",
       "      <td>NaN</td>\n",
       "    </tr>\n",
       "    <tr>\n",
       "      <th>1</th>\n",
       "      <td>Afghanistan</td>\n",
       "      <td>2022</td>\n",
       "      <td>1981.710168</td>\n",
       "      <td>NaN</td>\n",
       "    </tr>\n",
       "    <tr>\n",
       "      <th>2</th>\n",
       "      <td>Afghanistan</td>\n",
       "      <td>2021</td>\n",
       "      <td>2144.166570</td>\n",
       "      <td>NaN</td>\n",
       "    </tr>\n",
       "    <tr>\n",
       "      <th>3</th>\n",
       "      <td>Afghanistan</td>\n",
       "      <td>2020</td>\n",
       "      <td>2769.685745</td>\n",
       "      <td>NaN</td>\n",
       "    </tr>\n",
       "    <tr>\n",
       "      <th>4</th>\n",
       "      <td>Afghanistan</td>\n",
       "      <td>2019</td>\n",
       "      <td>2927.245144</td>\n",
       "      <td>NaN</td>\n",
       "    </tr>\n",
       "    <tr>\n",
       "      <th>5</th>\n",
       "      <td>Afghanistan</td>\n",
       "      <td>2018</td>\n",
       "      <td>2902.392113</td>\n",
       "      <td>NaN</td>\n",
       "    </tr>\n",
       "    <tr>\n",
       "      <th>6</th>\n",
       "      <td>Afghanistan</td>\n",
       "      <td>2017</td>\n",
       "      <td>2952.998916</td>\n",
       "      <td>NaN</td>\n",
       "    </tr>\n",
       "    <tr>\n",
       "      <th>7</th>\n",
       "      <td>Afghanistan</td>\n",
       "      <td>2016</td>\n",
       "      <td>2958.785399</td>\n",
       "      <td>NaN</td>\n",
       "    </tr>\n",
       "    <tr>\n",
       "      <th>8</th>\n",
       "      <td>Afghanistan</td>\n",
       "      <td>2015</td>\n",
       "      <td>2967.692067</td>\n",
       "      <td>NaN</td>\n",
       "    </tr>\n",
       "    <tr>\n",
       "      <th>9</th>\n",
       "      <td>Afghanistan</td>\n",
       "      <td>2014</td>\n",
       "      <td>3017.942544</td>\n",
       "      <td>NaN</td>\n",
       "    </tr>\n",
       "  </tbody>\n",
       "</table>\n",
       "</div>"
      ],
      "text/plain": [
       "  Country or Area  Year        Value  Value Footnotes\n",
       "0     Afghanistan  2023  1992.424394              NaN\n",
       "1     Afghanistan  2022  1981.710168              NaN\n",
       "2     Afghanistan  2021  2144.166570              NaN\n",
       "3     Afghanistan  2020  2769.685745              NaN\n",
       "4     Afghanistan  2019  2927.245144              NaN\n",
       "5     Afghanistan  2018  2902.392113              NaN\n",
       "6     Afghanistan  2017  2952.998916              NaN\n",
       "7     Afghanistan  2016  2958.785399              NaN\n",
       "8     Afghanistan  2015  2967.692067              NaN\n",
       "9     Afghanistan  2014  3017.942544              NaN"
      ]
     },
     "execution_count": 2,
     "metadata": {},
     "output_type": "execute_result"
    }
   ],
   "source": [
    "gdp_df = pd.read_csv(\"../data/gdp_per_capita.csv\")\n",
    "gdp_df.head(10)"
   ]
  },
  {
   "cell_type": "code",
   "execution_count": 3,
   "id": "10a5e557-9947-491a-b30f-84708edc4f95",
   "metadata": {},
   "outputs": [
    {
     "data": {
      "text/html": [
       "<div>\n",
       "<style scoped>\n",
       "    .dataframe tbody tr th:only-of-type {\n",
       "        vertical-align: middle;\n",
       "    }\n",
       "\n",
       "    .dataframe tbody tr th {\n",
       "        vertical-align: top;\n",
       "    }\n",
       "\n",
       "    .dataframe thead th {\n",
       "        text-align: right;\n",
       "    }\n",
       "</style>\n",
       "<table border=\"1\" class=\"dataframe\">\n",
       "  <thead>\n",
       "    <tr style=\"text-align: right;\">\n",
       "      <th></th>\n",
       "      <th>Country or Area</th>\n",
       "      <th>Year</th>\n",
       "      <th>Value</th>\n",
       "      <th>Value Footnotes</th>\n",
       "    </tr>\n",
       "  </thead>\n",
       "  <tbody>\n",
       "    <tr>\n",
       "      <th>8209</th>\n",
       "      <td>Zimbabwe</td>\n",
       "      <td>1999</td>\n",
       "      <td>4238.195198</td>\n",
       "      <td>NaN</td>\n",
       "    </tr>\n",
       "    <tr>\n",
       "      <th>8210</th>\n",
       "      <td>Zimbabwe</td>\n",
       "      <td>1998</td>\n",
       "      <td>4342.858177</td>\n",
       "      <td>NaN</td>\n",
       "    </tr>\n",
       "    <tr>\n",
       "      <th>8211</th>\n",
       "      <td>Zimbabwe</td>\n",
       "      <td>1997</td>\n",
       "      <td>4304.406272</td>\n",
       "      <td>NaN</td>\n",
       "    </tr>\n",
       "    <tr>\n",
       "      <th>8212</th>\n",
       "      <td>Zimbabwe</td>\n",
       "      <td>1996</td>\n",
       "      <td>4271.479930</td>\n",
       "      <td>NaN</td>\n",
       "    </tr>\n",
       "    <tr>\n",
       "      <th>8213</th>\n",
       "      <td>Zimbabwe</td>\n",
       "      <td>1995</td>\n",
       "      <td>3935.280057</td>\n",
       "      <td>NaN</td>\n",
       "    </tr>\n",
       "    <tr>\n",
       "      <th>8214</th>\n",
       "      <td>Zimbabwe</td>\n",
       "      <td>1994</td>\n",
       "      <td>3965.730986</td>\n",
       "      <td>NaN</td>\n",
       "    </tr>\n",
       "    <tr>\n",
       "      <th>8215</th>\n",
       "      <td>Zimbabwe</td>\n",
       "      <td>1993</td>\n",
       "      <td>3634.750494</td>\n",
       "      <td>NaN</td>\n",
       "    </tr>\n",
       "    <tr>\n",
       "      <th>8216</th>\n",
       "      <td>Zimbabwe</td>\n",
       "      <td>1992</td>\n",
       "      <td>3649.891947</td>\n",
       "      <td>NaN</td>\n",
       "    </tr>\n",
       "    <tr>\n",
       "      <th>8217</th>\n",
       "      <td>Zimbabwe</td>\n",
       "      <td>1991</td>\n",
       "      <td>4126.405247</td>\n",
       "      <td>NaN</td>\n",
       "    </tr>\n",
       "    <tr>\n",
       "      <th>8218</th>\n",
       "      <td>Zimbabwe</td>\n",
       "      <td>1990</td>\n",
       "      <td>4013.299059</td>\n",
       "      <td>NaN</td>\n",
       "    </tr>\n",
       "  </tbody>\n",
       "</table>\n",
       "</div>"
      ],
      "text/plain": [
       "     Country or Area  Year        Value  Value Footnotes\n",
       "8209        Zimbabwe  1999  4238.195198              NaN\n",
       "8210        Zimbabwe  1998  4342.858177              NaN\n",
       "8211        Zimbabwe  1997  4304.406272              NaN\n",
       "8212        Zimbabwe  1996  4271.479930              NaN\n",
       "8213        Zimbabwe  1995  3935.280057              NaN\n",
       "8214        Zimbabwe  1994  3965.730986              NaN\n",
       "8215        Zimbabwe  1993  3634.750494              NaN\n",
       "8216        Zimbabwe  1992  3649.891947              NaN\n",
       "8217        Zimbabwe  1991  4126.405247              NaN\n",
       "8218        Zimbabwe  1990  4013.299059              NaN"
      ]
     },
     "execution_count": 3,
     "metadata": {},
     "output_type": "execute_result"
    }
   ],
   "source": [
    "gdp_df.tail(10)"
   ]
  },
  {
   "cell_type": "code",
   "execution_count": 4,
   "id": "229a897f-9c1c-4219-ab23-44b317bd6ed8",
   "metadata": {},
   "outputs": [
    {
     "data": {
      "text/html": [
       "<div>\n",
       "<style scoped>\n",
       "    .dataframe tbody tr th:only-of-type {\n",
       "        vertical-align: middle;\n",
       "    }\n",
       "\n",
       "    .dataframe tbody tr th {\n",
       "        vertical-align: top;\n",
       "    }\n",
       "\n",
       "    .dataframe thead th {\n",
       "        text-align: right;\n",
       "    }\n",
       "</style>\n",
       "<table border=\"1\" class=\"dataframe\">\n",
       "  <thead>\n",
       "    <tr style=\"text-align: right;\">\n",
       "      <th></th>\n",
       "      <th>Country or Area</th>\n",
       "      <th>Year</th>\n",
       "      <th>Value</th>\n",
       "      <th>Value Footnotes</th>\n",
       "    </tr>\n",
       "  </thead>\n",
       "  <tbody>\n",
       "    <tr>\n",
       "      <th>816</th>\n",
       "      <td>Bolivia</td>\n",
       "      <td>2012</td>\n",
       "      <td>8108.205187</td>\n",
       "      <td>NaN</td>\n",
       "    </tr>\n",
       "    <tr>\n",
       "      <th>3687</th>\n",
       "      <td>Jordan</td>\n",
       "      <td>1996</td>\n",
       "      <td>7731.478683</td>\n",
       "      <td>NaN</td>\n",
       "    </tr>\n",
       "    <tr>\n",
       "      <th>5966</th>\n",
       "      <td>Poland</td>\n",
       "      <td>2003</td>\n",
       "      <td>19837.704414</td>\n",
       "      <td>NaN</td>\n",
       "    </tr>\n",
       "    <tr>\n",
       "      <th>232</th>\n",
       "      <td>Antigua and Barbuda</td>\n",
       "      <td>2019</td>\n",
       "      <td>29636.892438</td>\n",
       "      <td>NaN</td>\n",
       "    </tr>\n",
       "    <tr>\n",
       "      <th>7814</th>\n",
       "      <td>United Arab Emirates</td>\n",
       "      <td>2003</td>\n",
       "      <td>87150.883381</td>\n",
       "      <td>NaN</td>\n",
       "    </tr>\n",
       "    <tr>\n",
       "      <th>3398</th>\n",
       "      <td>Indonesia</td>\n",
       "      <td>2013</td>\n",
       "      <td>10121.814154</td>\n",
       "      <td>NaN</td>\n",
       "    </tr>\n",
       "    <tr>\n",
       "      <th>3465</th>\n",
       "      <td>Iraq</td>\n",
       "      <td>2014</td>\n",
       "      <td>13536.822768</td>\n",
       "      <td>NaN</td>\n",
       "    </tr>\n",
       "    <tr>\n",
       "      <th>1577</th>\n",
       "      <td>Costa Rica</td>\n",
       "      <td>2017</td>\n",
       "      <td>22631.506112</td>\n",
       "      <td>NaN</td>\n",
       "    </tr>\n",
       "    <tr>\n",
       "      <th>6395</th>\n",
       "      <td>Senegal</td>\n",
       "      <td>2008</td>\n",
       "      <td>3359.705671</td>\n",
       "      <td>NaN</td>\n",
       "    </tr>\n",
       "    <tr>\n",
       "      <th>2337</th>\n",
       "      <td>Europe &amp; Central Asia (excluding high income)</td>\n",
       "      <td>2006</td>\n",
       "      <td>14593.568527</td>\n",
       "      <td>NaN</td>\n",
       "    </tr>\n",
       "  </tbody>\n",
       "</table>\n",
       "</div>"
      ],
      "text/plain": [
       "                                    Country or Area  Year         Value  \\\n",
       "816                                         Bolivia  2012   8108.205187   \n",
       "3687                                         Jordan  1996   7731.478683   \n",
       "5966                                         Poland  2003  19837.704414   \n",
       "232                             Antigua and Barbuda  2019  29636.892438   \n",
       "7814                           United Arab Emirates  2003  87150.883381   \n",
       "3398                                      Indonesia  2013  10121.814154   \n",
       "3465                                           Iraq  2014  13536.822768   \n",
       "1577                                     Costa Rica  2017  22631.506112   \n",
       "6395                                        Senegal  2008   3359.705671   \n",
       "2337  Europe & Central Asia (excluding high income)  2006  14593.568527   \n",
       "\n",
       "      Value Footnotes  \n",
       "816               NaN  \n",
       "3687              NaN  \n",
       "5966              NaN  \n",
       "232               NaN  \n",
       "7814              NaN  \n",
       "3398              NaN  \n",
       "3465              NaN  \n",
       "1577              NaN  \n",
       "6395              NaN  \n",
       "2337              NaN  "
      ]
     },
     "execution_count": 4,
     "metadata": {},
     "output_type": "execute_result"
    }
   ],
   "source": [
    "gdp_df.sample(10)"
   ]
  },
  {
   "cell_type": "markdown",
   "id": "437cf970-1e64-408b-a73a-335acef16c93",
   "metadata": {},
   "source": [
    "5.Drop the 'Value Footnotes' column, and rename the remaining columns to 'Country', 'Year', and 'GDP_Per_Capita."
   ]
  },
  {
   "cell_type": "code",
   "execution_count": 5,
   "id": "f0eb5e37-c6d8-476e-87a7-f01308e538fb",
   "metadata": {},
   "outputs": [
    {
     "data": {
      "text/html": [
       "<div>\n",
       "<style scoped>\n",
       "    .dataframe tbody tr th:only-of-type {\n",
       "        vertical-align: middle;\n",
       "    }\n",
       "\n",
       "    .dataframe tbody tr th {\n",
       "        vertical-align: top;\n",
       "    }\n",
       "\n",
       "    .dataframe thead th {\n",
       "        text-align: right;\n",
       "    }\n",
       "</style>\n",
       "<table border=\"1\" class=\"dataframe\">\n",
       "  <thead>\n",
       "    <tr style=\"text-align: right;\">\n",
       "      <th></th>\n",
       "      <th>Country</th>\n",
       "      <th>Year</th>\n",
       "      <th>GDP_Per_Capita</th>\n",
       "    </tr>\n",
       "  </thead>\n",
       "  <tbody>\n",
       "    <tr>\n",
       "      <th>0</th>\n",
       "      <td>Afghanistan</td>\n",
       "      <td>2023</td>\n",
       "      <td>1992.424394</td>\n",
       "    </tr>\n",
       "  </tbody>\n",
       "</table>\n",
       "</div>"
      ],
      "text/plain": [
       "       Country  Year  GDP_Per_Capita\n",
       "0  Afghanistan  2023     1992.424394"
      ]
     },
     "execution_count": 5,
     "metadata": {},
     "output_type": "execute_result"
    }
   ],
   "source": [
    "gdp_df = (\n",
    "    gdp_df\n",
    "    .drop(columns = \"Value Footnotes\") # gdp_df.drop(\"Value Footnotes\", axis =1)\n",
    "    .rename(columns={\n",
    "        'Country or Area':'Country',\n",
    "        'Year':'Year',\n",
    "        'Value':'GDP_Per_Capita'\n",
    "    })\n",
    ")\n",
    "gdp_df.head(1)"
   ]
  },
  {
   "cell_type": "markdown",
   "id": "b173773f-e498-4ddd-9066-26aab91ac4e6",
   "metadata": {},
   "source": [
    "6. How many rows and columns does gdp_df have? What are the data types of its columns? If any of the columns are not the expected types, figure out why and fix it."
   ]
  },
  {
   "cell_type": "code",
   "execution_count": 6,
   "id": "44feabea-3121-4882-87d6-6f56614df7ef",
   "metadata": {},
   "outputs": [
    {
     "name": "stdout",
     "output_type": "stream",
     "text": [
      "gdp_df has 8219 and 3 columns\n"
     ]
    }
   ],
   "source": [
    "num_rows, num_cols = gdp_df.shape\n",
    "print(f'gdp_df has {num_rows} and {num_cols} columns')"
   ]
  },
  {
   "cell_type": "code",
   "execution_count": 7,
   "id": "e03a1346-5003-484c-bf87-8706fbb81332",
   "metadata": {},
   "outputs": [
    {
     "name": "stdout",
     "output_type": "stream",
     "text": [
      "<class 'pandas.core.frame.DataFrame'>\n",
      "RangeIndex: 8219 entries, 0 to 8218\n",
      "Data columns (total 3 columns):\n",
      " #   Column          Non-Null Count  Dtype  \n",
      "---  ------          --------------  -----  \n",
      " 0   Country         8219 non-null   object \n",
      " 1   Year            8219 non-null   int64  \n",
      " 2   GDP_Per_Capita  8219 non-null   float64\n",
      "dtypes: float64(1), int64(1), object(1)\n",
      "memory usage: 192.8+ KB\n"
     ]
    }
   ],
   "source": [
    "gdp_df.info()"
   ]
  },
  {
   "cell_type": "code",
   "execution_count": 8,
   "id": "1b6f3dbd-7534-437b-b30a-f4869d3484d1",
   "metadata": {},
   "outputs": [],
   "source": [
    "gdp_df['Year']=gdp_df['Year'].astype(str) "
   ]
  },
  {
   "cell_type": "markdown",
   "id": "97d9c34b-e99f-4a13-a6d0-91f396ac09ba",
   "metadata": {},
   "source": [
    "gdp_df has 8219 rows and 3 columns. Data type of \"Country\" is object, \"year\" is int and \"GDP_Per_Capita\" is given as float. \n",
    "\"Year\" data type has been changed to \"string\"."
   ]
  },
  {
   "cell_type": "markdown",
   "id": "dc98a9aa-1156-4422-9b20-712744cbf79b",
   "metadata": {},
   "source": [
    "7. Which years are represented in this dataset? Take a look at the number of observations per year. What do you notice?"
   ]
  },
  {
   "cell_type": "code",
   "execution_count": 9,
   "id": "d4109dbf-71ff-4d65-864c-0e4f86f97c94",
   "metadata": {},
   "outputs": [
    {
     "data": {
      "text/plain": [
       "array(['2023', '2022', '2021', '2020', '2019', '2018', '2017', '2016',\n",
       "       '2015', '2014', '2013', '2012', '2011', '2010', '2009', '2008',\n",
       "       '2007', '2006', '2005', '2004', '2003', '2002', '2001', '2000',\n",
       "       '1999', '1998', '1997', '1996', '1995', '1994', '1993', '1992',\n",
       "       '1991', '1990'], dtype=object)"
      ]
     },
     "execution_count": 9,
     "metadata": {},
     "output_type": "execute_result"
    }
   ],
   "source": [
    "gdp_df['Year'].unique() #unique years"
   ]
  },
  {
   "cell_type": "code",
   "execution_count": 10,
   "id": "2ce6f531-9337-4c32-affe-f5c0f0aaefba",
   "metadata": {},
   "outputs": [
    {
     "data": {
      "text/plain": [
       "Year\n",
       "2021    247\n",
       "2020    247\n",
       "2019    247\n",
       "2018    247\n",
       "2017    247\n",
       "2016    247\n",
       "2015    247\n",
       "2014    247\n",
       "2013    247\n",
       "2012    246\n",
       "2022    246\n",
       "2011    246\n",
       "2010    245\n",
       "2009    245\n",
       "2008    244\n",
       "2007    242\n",
       "2006    242\n",
       "2005    241\n",
       "2004    241\n",
       "2003    241\n",
       "2002    241\n",
       "2000    240\n",
       "2023    240\n",
       "2001    240\n",
       "1999    238\n",
       "1998    238\n",
       "1997    238\n",
       "1996    236\n",
       "1995    236\n",
       "1994    235\n",
       "1993    234\n",
       "1992    234\n",
       "1991    234\n",
       "1990    233\n",
       "Name: count, dtype: int64"
      ]
     },
     "execution_count": 10,
     "metadata": {},
     "output_type": "execute_result"
    }
   ],
   "source": [
    "#gdp_df.groupby(\"Year\")[\"GDP_Per_Capita\"].count().plot(kind=\"bar\")\n",
    "#gdp_df['Year'].value_counts().sort_index().plot()\n",
    "gdp_df['Year'].value_counts()  #no.of observations per each year"
   ]
  },
  {
   "cell_type": "markdown",
   "id": "7361e1c5-16c1-4e5a-90ce-5cd6d023b065",
   "metadata": {},
   "source": [
    "The number of observations per each year are between 233 to 247 and the number of observations are increased every year."
   ]
  },
  {
   "cell_type": "markdown",
   "id": "164b306a-b1bc-46ac-8bbb-38c758cb04da",
   "metadata": {},
   "source": [
    "8. How many countries are represented in this dataset? Which countries are least represented in the dataset? Why do you think these countries have so few observations?"
   ]
  },
  {
   "cell_type": "code",
   "execution_count": 11,
   "id": "a2506596-434a-4c26-8a27-b375414349ad",
   "metadata": {},
   "outputs": [
    {
     "data": {
      "text/plain": [
       "'Djibouti'"
      ]
     },
     "execution_count": 11,
     "metadata": {},
     "output_type": "execute_result"
    }
   ],
   "source": [
    "gdp_df['Country'].value_counts().nsmallest(1, keep =\"all\").index[0]  # keep=\"all\" if there are any duplicates it keeps all the values"
   ]
  },
  {
   "cell_type": "markdown",
   "id": "72f13d03-b037-4805-80ca-ccb0871df4b0",
   "metadata": {},
   "source": [
    "9. Create a new dataframe by subsetting `gdp_df` to just the year 2021. Call this new dataframe `gdp_2021`."
   ]
  },
  {
   "cell_type": "code",
   "execution_count": 12,
   "id": "b9fb7334-7b1a-4a10-810a-f29a4df2b447",
   "metadata": {},
   "outputs": [],
   "source": [
    "gdp_2021 = gdp_df[gdp_df['Year'] == '2021'] \n"
   ]
  },
  {
   "cell_type": "markdown",
   "id": "b61f0769-a16d-471e-a1f3-8bcb6d1ca67d",
   "metadata": {},
   "source": [
    "10. Use `.describe()` to find the summary statistics for GDP per capita in 2021. "
   ]
  },
  {
   "cell_type": "code",
   "execution_count": 13,
   "id": "91b254c5-87f8-4551-a1f5-b5dd67909356",
   "metadata": {},
   "outputs": [
    {
     "data": {
      "text/plain": [
       "count       247.000000\n",
       "mean      24478.517262\n",
       "std       24601.525764\n",
       "min         836.665571\n",
       "25%        5996.532844\n",
       "50%       15900.976581\n",
       "75%       37298.776853\n",
       "max      135379.291201\n",
       "Name: GDP_Per_Capita, dtype: float64"
      ]
     },
     "execution_count": 13,
     "metadata": {},
     "output_type": "execute_result"
    }
   ],
   "source": [
    "gdp_2021['GDP_Per_Capita'].describe()"
   ]
  },
  {
   "cell_type": "markdown",
   "id": "5d6c82fc-6783-47f7-a00d-674633d59995",
   "metadata": {},
   "source": [
    "11. Create a histogram of GDP Per Capita numbers for 2021 (you may wish to adjust the number of bins for your histogram). How would you describe the shape of the distribution?"
   ]
  },
  {
   "cell_type": "code",
   "execution_count": 14,
   "id": "5df7a19c-9b97-4c7c-bd44-ec1c335b5d72",
   "metadata": {},
   "outputs": [
    {
     "data": {
      "image/png": "[encoded data removed]",
      "text/plain": [
       "<Figure size 640x480 with 1 Axes>"
      ]
     },
     "metadata": {},
     "output_type": "display_data"
    }
   ],
   "source": [
    "gdp_2021['GDP_Per_Capita'].hist(bins = 20) #.plot(kind=\"hist\",bins=20)\n",
    "plt.title('GDP Per Capita numbers for 2021');"
   ]
  },
  {
   "cell_type": "markdown",
   "id": "7dd3051d-28fd-47ab-bac1-9e15eb79e817",
   "metadata": {},
   "source": [
    "it's kind of right skewed distribution."
   ]
  },
  {
   "cell_type": "markdown",
   "id": "22189b34-6afd-4ec9-b065-74d0b6ffeadc",
   "metadata": {},
   "source": [
    "12. Find the top 5 counties and bottom 5 countries by GDP per capita in 2021."
   ]
  },
  {
   "cell_type": "code",
   "execution_count": 15,
   "id": "0b7d349a-bed5-4533-8b19-fb9373d94000",
   "metadata": {},
   "outputs": [
    {
     "data": {
      "text/html": [
       "<div>\n",
       "<style scoped>\n",
       "    .dataframe tbody tr th:only-of-type {\n",
       "        vertical-align: middle;\n",
       "    }\n",
       "\n",
       "    .dataframe tbody tr th {\n",
       "        vertical-align: top;\n",
       "    }\n",
       "\n",
       "    .dataframe thead th {\n",
       "        text-align: right;\n",
       "    }\n",
       "</style>\n",
       "<table border=\"1\" class=\"dataframe\">\n",
       "  <thead>\n",
       "    <tr style=\"text-align: right;\">\n",
       "      <th></th>\n",
       "      <th>Country</th>\n",
       "      <th>Year</th>\n",
       "      <th>GDP_Per_Capita</th>\n",
       "    </tr>\n",
       "  </thead>\n",
       "  <tbody>\n",
       "    <tr>\n",
       "      <th>4425</th>\n",
       "      <td>Luxembourg</td>\n",
       "      <td>2021</td>\n",
       "      <td>135379.291201</td>\n",
       "    </tr>\n",
       "    <tr>\n",
       "      <th>6513</th>\n",
       "      <td>Singapore</td>\n",
       "      <td>2021</td>\n",
       "      <td>131864.092336</td>\n",
       "    </tr>\n",
       "    <tr>\n",
       "      <th>3492</th>\n",
       "      <td>Ireland</td>\n",
       "      <td>2021</td>\n",
       "      <td>118594.746862</td>\n",
       "    </tr>\n",
       "    <tr>\n",
       "      <th>6118</th>\n",
       "      <td>Qatar</td>\n",
       "      <td>2021</td>\n",
       "      <td>116832.570290</td>\n",
       "    </tr>\n",
       "    <tr>\n",
       "      <th>740</th>\n",
       "      <td>Bermuda</td>\n",
       "      <td>2021</td>\n",
       "      <td>92276.234605</td>\n",
       "    </tr>\n",
       "  </tbody>\n",
       "</table>\n",
       "</div>"
      ],
      "text/plain": [
       "         Country  Year  GDP_Per_Capita\n",
       "4425  Luxembourg  2021   135379.291201\n",
       "6513   Singapore  2021   131864.092336\n",
       "3492     Ireland  2021   118594.746862\n",
       "6118       Qatar  2021   116832.570290\n",
       "740      Bermuda  2021    92276.234605"
      ]
     },
     "execution_count": 15,
     "metadata": {},
     "output_type": "execute_result"
    }
   ],
   "source": [
    "gdp_2021.nlargest(5,'GDP_Per_Capita', keep=\"all\") #nlargest largest value, top 5 countries as per GDP per Capita"
   ]
  },
  {
   "cell_type": "code",
   "execution_count": 16,
   "id": "3793ff6b-6410-47e6-96e7-0da47fc8169d",
   "metadata": {},
   "outputs": [
    {
     "data": {
      "text/html": [
       "<div>\n",
       "<style scoped>\n",
       "    .dataframe tbody tr th:only-of-type {\n",
       "        vertical-align: middle;\n",
       "    }\n",
       "\n",
       "    .dataframe tbody tr th {\n",
       "        vertical-align: top;\n",
       "    }\n",
       "\n",
       "    .dataframe thead th {\n",
       "        text-align: right;\n",
       "    }\n",
       "</style>\n",
       "<table border=\"1\" class=\"dataframe\">\n",
       "  <thead>\n",
       "    <tr style=\"text-align: right;\">\n",
       "      <th></th>\n",
       "      <th>Country</th>\n",
       "      <th>Year</th>\n",
       "      <th>GDP_Per_Capita</th>\n",
       "    </tr>\n",
       "  </thead>\n",
       "  <tbody>\n",
       "    <tr>\n",
       "      <th>1045</th>\n",
       "      <td>Burundi</td>\n",
       "      <td>2021</td>\n",
       "      <td>836.665571</td>\n",
       "    </tr>\n",
       "    <tr>\n",
       "      <th>1301</th>\n",
       "      <td>Central African Republic</td>\n",
       "      <td>2021</td>\n",
       "      <td>1128.552380</td>\n",
       "    </tr>\n",
       "    <tr>\n",
       "      <th>1733</th>\n",
       "      <td>Dem. Rep. Congo</td>\n",
       "      <td>2021</td>\n",
       "      <td>1313.618218</td>\n",
       "    </tr>\n",
       "    <tr>\n",
       "      <th>6698</th>\n",
       "      <td>Somalia</td>\n",
       "      <td>2021</td>\n",
       "      <td>1392.464262</td>\n",
       "    </tr>\n",
       "    <tr>\n",
       "      <th>5132</th>\n",
       "      <td>Mozambique</td>\n",
       "      <td>2021</td>\n",
       "      <td>1457.235409</td>\n",
       "    </tr>\n",
       "  </tbody>\n",
       "</table>\n",
       "</div>"
      ],
      "text/plain": [
       "                       Country  Year  GDP_Per_Capita\n",
       "1045                   Burundi  2021      836.665571\n",
       "1301  Central African Republic  2021     1128.552380\n",
       "1733           Dem. Rep. Congo  2021     1313.618218\n",
       "6698                   Somalia  2021     1392.464262\n",
       "5132                Mozambique  2021     1457.235409"
      ]
     },
     "execution_count": 16,
     "metadata": {},
     "output_type": "execute_result"
    }
   ],
   "source": [
    "gdp_2021.nsmallest(5,'GDP_Per_Capita')"
   ]
  },
  {
   "cell_type": "markdown",
   "id": "f661da78-c308-4dcf-b70e-7c5cf4c3f1e8",
   "metadata": {},
   "source": [
    "13. Now, return to the full dataset, `gdp_df`. Pivot the data for 1990 and 2021 (using the pandas `.pivot_table()` method or another method) so that each row corresponds to a country, each column corresponds to a year, and the values in the table give the GDP_Per_Capita amount. Drop any rows that are missing values for either 1990 or 2021. Save the result to a dataframe named `gdp_pivoted`."
   ]
  },
  {
   "cell_type": "code",
   "execution_count": 17,
   "id": "4a9ba033-013c-4298-a083-451287faf1ad",
   "metadata": {},
   "outputs": [],
   "source": [
    "#other way by using pivot_table function\n",
    "#gdp_pivoted = pd.pivot_table(\n",
    "   # gdp_drop_footnotes.loc[(gdp_drop_footnotes['Year']==1990) | (gdp_drop_footnotes['Year']==2021)],\n",
    "    #values='GDP_Per_Capita',\n",
    "    #index='Country',\n",
    "    #columns='Year'\n",
    "#)"
   ]
  },
  {
   "cell_type": "code",
   "execution_count": 18,
   "id": "42904470-92b9-422d-bc78-90d2bfbd8b4b",
   "metadata": {},
   "outputs": [
    {
     "data": {
      "text/html": [
       "<div>\n",
       "<style scoped>\n",
       "    .dataframe tbody tr th:only-of-type {\n",
       "        vertical-align: middle;\n",
       "    }\n",
       "\n",
       "    .dataframe tbody tr th {\n",
       "        vertical-align: top;\n",
       "    }\n",
       "\n",
       "    .dataframe thead th {\n",
       "        text-align: right;\n",
       "    }\n",
       "</style>\n",
       "<table border=\"1\" class=\"dataframe\">\n",
       "  <thead>\n",
       "    <tr style=\"text-align: right;\">\n",
       "      <th>Year</th>\n",
       "      <th>1990</th>\n",
       "      <th>2021</th>\n",
       "    </tr>\n",
       "    <tr>\n",
       "      <th>Country</th>\n",
       "      <th></th>\n",
       "      <th></th>\n",
       "    </tr>\n",
       "  </thead>\n",
       "  <tbody>\n",
       "    <tr>\n",
       "      <th>Africa Eastern and Southern</th>\n",
       "      <td>3386.854480</td>\n",
       "      <td>3934.287267</td>\n",
       "    </tr>\n",
       "    <tr>\n",
       "      <th>Africa Western and Central</th>\n",
       "      <td>3299.401375</td>\n",
       "      <td>4698.926894</td>\n",
       "    </tr>\n",
       "    <tr>\n",
       "      <th>Albania</th>\n",
       "      <td>5327.747458</td>\n",
       "      <td>16113.136519</td>\n",
       "    </tr>\n",
       "    <tr>\n",
       "      <th>Algeria</th>\n",
       "      <td>11728.545729</td>\n",
       "      <td>14496.865470</td>\n",
       "    </tr>\n",
       "    <tr>\n",
       "      <th>Andorra</th>\n",
       "      <td>50036.300776</td>\n",
       "      <td>59332.202910</td>\n",
       "    </tr>\n",
       "  </tbody>\n",
       "</table>\n",
       "</div>"
      ],
      "text/plain": [
       "Year                                 1990          2021\n",
       "Country                                                \n",
       "Africa Eastern and Southern   3386.854480   3934.287267\n",
       "Africa Western and Central    3299.401375   4698.926894\n",
       "Albania                       5327.747458  16113.136519\n",
       "Algeria                      11728.545729  14496.865470\n",
       "Andorra                      50036.300776  59332.202910"
      ]
     },
     "execution_count": 18,
     "metadata": {},
     "output_type": "execute_result"
    }
   ],
   "source": [
    "gdp_pivoted = (\n",
    "gdp_df\n",
    "     [gdp_df['Year'].isin([\"1990\",\"2021\"])]\n",
    "    .pivot_table(index = \"Country\", columns=\"Year\", values = \"GDP_Per_Capita\") ##pivot_table(long to wide). index -the column to use for new dataframe index, columns-The column to use for new dataframe columns, values-columns to aggregate\n",
    "    .dropna(subset=[\"1990\",\"2021\"]) #dropna- drops rows with NaN values\n",
    ")\n",
    "gdp_pivoted.head()"
   ]
  },
  {
   "cell_type": "markdown",
   "id": "409e3fcc-56c8-4844-80f3-1ccaf215e3e3",
   "metadata": {},
   "source": [
    "14. Create a new column in `gdp_pivoted` named `Percent_Change`. This column should contain the percent change in GDP_Per_Capita from 1990 to 2021. Hint: Percent change is calculated as 100*(New Value - Old Value) / Old Value."
   ]
  },
  {
   "cell_type": "code",
   "execution_count": 19,
   "id": "37bdc222-1fdf-409a-8dc6-ecfb1214a7e4",
   "metadata": {},
   "outputs": [],
   "source": [
    "gdp_pivoted.loc[:,\"Percent_Change\"] = 100 * (gdp_pivoted[\"2021\"]-gdp_pivoted[\"1990\"])/gdp_pivoted[\"1990\"] "
   ]
  },
  {
   "cell_type": "code",
   "execution_count": 20,
   "id": "f6f05754-7661-4064-ae66-2f3d593341f5",
   "metadata": {},
   "outputs": [
    {
     "data": {
      "text/html": [
       "<div>\n",
       "<style scoped>\n",
       "    .dataframe tbody tr th:only-of-type {\n",
       "        vertical-align: middle;\n",
       "    }\n",
       "\n",
       "    .dataframe tbody tr th {\n",
       "        vertical-align: top;\n",
       "    }\n",
       "\n",
       "    .dataframe thead th {\n",
       "        text-align: right;\n",
       "    }\n",
       "</style>\n",
       "<table border=\"1\" class=\"dataframe\">\n",
       "  <thead>\n",
       "    <tr style=\"text-align: right;\">\n",
       "      <th>Year</th>\n",
       "      <th>1990</th>\n",
       "      <th>2021</th>\n",
       "      <th>Percent_Change</th>\n",
       "    </tr>\n",
       "    <tr>\n",
       "      <th>Country</th>\n",
       "      <th></th>\n",
       "      <th></th>\n",
       "      <th></th>\n",
       "    </tr>\n",
       "  </thead>\n",
       "  <tbody>\n",
       "    <tr>\n",
       "      <th>Africa Eastern and Southern</th>\n",
       "      <td>3386.854480</td>\n",
       "      <td>3934.287267</td>\n",
       "      <td>16.163458</td>\n",
       "    </tr>\n",
       "    <tr>\n",
       "      <th>Africa Western and Central</th>\n",
       "      <td>3299.401375</td>\n",
       "      <td>4698.926894</td>\n",
       "      <td>42.417559</td>\n",
       "    </tr>\n",
       "    <tr>\n",
       "      <th>Albania</th>\n",
       "      <td>5327.747458</td>\n",
       "      <td>16113.136519</td>\n",
       "      <td>202.438069</td>\n",
       "    </tr>\n",
       "    <tr>\n",
       "      <th>Algeria</th>\n",
       "      <td>11728.545729</td>\n",
       "      <td>14496.865470</td>\n",
       "      <td>23.603265</td>\n",
       "    </tr>\n",
       "    <tr>\n",
       "      <th>Andorra</th>\n",
       "      <td>50036.300776</td>\n",
       "      <td>59332.202910</td>\n",
       "      <td>18.578316</td>\n",
       "    </tr>\n",
       "  </tbody>\n",
       "</table>\n",
       "</div>"
      ],
      "text/plain": [
       "Year                                 1990          2021  Percent_Change\n",
       "Country                                                                \n",
       "Africa Eastern and Southern   3386.854480   3934.287267       16.163458\n",
       "Africa Western and Central    3299.401375   4698.926894       42.417559\n",
       "Albania                       5327.747458  16113.136519      202.438069\n",
       "Algeria                      11728.545729  14496.865470       23.603265\n",
       "Andorra                      50036.300776  59332.202910       18.578316"
      ]
     },
     "execution_count": 20,
     "metadata": {},
     "output_type": "execute_result"
    }
   ],
   "source": [
    "gdp_pivoted.head()"
   ]
  },
  {
   "cell_type": "markdown",
   "id": "e1b5b6b5-7a17-495a-be5d-5daf6f4c9df0",
   "metadata": {},
   "source": [
    "15. How many countries experienced a negative percent change in GDP per capita from 1990 to 2021?"
   ]
  },
  {
   "cell_type": "code",
   "execution_count": 21,
   "id": "5dd58a7a-b52b-4eae-98d7-90a206cd2785",
   "metadata": {},
   "outputs": [
    {
     "data": {
      "text/plain": [
       "23"
      ]
     },
     "execution_count": 21,
     "metadata": {},
     "output_type": "execute_result"
    }
   ],
   "source": [
    "neg_percent_change =gdp_pivoted[gdp_pivoted[\"Percent_Change\"]<0].shape[0]\n",
    "neg_percent_change   # [\"Percent_Change\"]<0 checks if there are any negative values \n",
    "#len(neg_percent_change)"
   ]
  },
  {
   "cell_type": "markdown",
   "id": "71b0db91-6b6f-40b9-81dd-62f8216c47b7",
   "metadata": {},
   "source": [
    "16. Which country had the highest % change in GDP per capita? Create a line plot showing this country's GDP per capita for all years from 1990 to 2021. Create another showing the country with the second highest % change in GDP. How do the trends in these countries compare?  \n",
    "**Bonus:** Put both line charts on the same plot."
   ]
  },
  {
   "cell_type": "code",
   "execution_count": 22,
   "id": "8c0d5620-be2d-42e5-9d1c-1773307ef380",
   "metadata": {},
   "outputs": [
    {
     "data": {
      "text/html": [
       "<div>\n",
       "<style scoped>\n",
       "    .dataframe tbody tr th:only-of-type {\n",
       "        vertical-align: middle;\n",
       "    }\n",
       "\n",
       "    .dataframe tbody tr th {\n",
       "        vertical-align: top;\n",
       "    }\n",
       "\n",
       "    .dataframe thead th {\n",
       "        text-align: right;\n",
       "    }\n",
       "</style>\n",
       "<table border=\"1\" class=\"dataframe\">\n",
       "  <thead>\n",
       "    <tr style=\"text-align: right;\">\n",
       "      <th>Year</th>\n",
       "      <th>1990</th>\n",
       "      <th>2021</th>\n",
       "      <th>Percent_Change</th>\n",
       "    </tr>\n",
       "    <tr>\n",
       "      <th>Country</th>\n",
       "      <th></th>\n",
       "      <th></th>\n",
       "      <th></th>\n",
       "    </tr>\n",
       "  </thead>\n",
       "  <tbody>\n",
       "    <tr>\n",
       "      <th>Equatorial Guinea</th>\n",
       "      <td>1122.817674</td>\n",
       "      <td>16821.448647</td>\n",
       "      <td>1398.146052</td>\n",
       "    </tr>\n",
       "    <tr>\n",
       "      <th>China</th>\n",
       "      <td>1645.578944</td>\n",
       "      <td>20406.729658</td>\n",
       "      <td>1140.094237</td>\n",
       "    </tr>\n",
       "  </tbody>\n",
       "</table>\n",
       "</div>"
      ],
      "text/plain": [
       "Year                      1990          2021  Percent_Change\n",
       "Country                                                     \n",
       "Equatorial Guinea  1122.817674  16821.448647     1398.146052\n",
       "China              1645.578944  20406.729658     1140.094237"
      ]
     },
     "execution_count": 22,
     "metadata": {},
     "output_type": "execute_result"
    }
   ],
   "source": [
    "gdp_pivoted.nlargest(2,\"Percent_Change\")"
   ]
  },
  {
   "cell_type": "code",
   "execution_count": 23,
   "id": "f876d849-2c88-49f4-a09e-6301d5d9e223",
   "metadata": {},
   "outputs": [
    {
     "data": {
      "image/png": "[encoded data removed]",
      "text/plain": [
       "<Figure size 1200x600 with 1 Axes>"
      ]
     },
     "metadata": {},
     "output_type": "display_data"
    }
   ],
   "source": [
    "high_percent_change = gdp_df[gdp_df[\"Country\"].isin([\"Equatorial Guinea\"])]\n",
    "high_percent_change= high_percent_change.sort_values(\"Year\",ascending = True) #sort values in ascending order \n",
    "second_high_percent_change = gdp_df[gdp_df[\"Country\"].isin([\"China\"])]\n",
    "second_high_percent_change = second_high_percent_change.sort_values(\"Year\",ascending = True)\n",
    "plt.figure(figsize=(12,6))\n",
    "plt.xticks(rotation=45, ha='right')\n",
    "plt.plot(high_percent_change[\"Year\"],high_percent_change[\"GDP_Per_Capita\"], color =\"green\")\n",
    "plt.plot(second_high_percent_change[\"Year\"],second_high_percent_change[\"GDP_Per_Capita\"], color =\"red\")\n",
    "plt.xlabel(\"Year\")\n",
    "plt.ylabel(\"GDP_Per_Capita\")\n",
    "plt.legend([\"Equatorial Guinea\", \"China\"], loc=\"upper left\")  #legend- to provide the labels, loc argument controls the label position\n",
    "plt.show();\n"
   ]
  },
  {
   "cell_type": "code",
   "execution_count": 24,
   "id": "28a88908-bde0-4bfe-9a68-5b17dcc1556f",
   "metadata": {},
   "outputs": [
    {
     "data": {
      "image/png": "[encoded data removed]",
      "text/plain": [
       "<Figure size 640x480 with 1 Axes>"
      ]
     },
     "metadata": {},
     "output_type": "display_data"
    }
   ],
   "source": [
    "ax=(\n",
    "gdp_df\n",
    ".loc[gdp_df['Country'] == 'Equatorial Guinea']\n",
    ".loc[gdp_df['Year'] <= \"2021\"]\n",
    ".loc[gdp_df['Year'] >= \"1990\"]\n",
    ".sort_values(\"Year\")\n",
    ".plot(x=\"Year\", y=\"GDP_Per_Capita\", kind=\"line\", label = 'Equatorial Guinea')\n",
    ")\n",
    "(\n",
    "gdp_df\n",
    ".loc[gdp_df['Country'] == 'China']\n",
    ".loc[gdp_df['Year'] <= \"2021\"]\n",
    ".loc[gdp_df['Year'] >= \"1990\"]\n",
    ".sort_values(\"Year\")\n",
    ".plot(x=\"Year\", y=\"GDP_Per_Capita\", kind=\"line\", label = 'China', ax=ax)\n",
    ");"
   ]
  },
  {
   "cell_type": "code",
   "execution_count": 25,
   "id": "3910a15b-0e0f-4607-9d50-8bc9a03ccfae",
   "metadata": {},
   "outputs": [
    {
     "data": {
      "text/plain": [
       "array(['2023', '2022', '2021', '2020', '2019', '2018', '2017', '2016',\n",
       "       '2015', '2014', '2013', '2012', '2011', '2010', '2009', '2008',\n",
       "       '2007', '2006', '2005', '2004', '2003', '2002', '2001', '2000',\n",
       "       '1999', '1998', '1997', '1996', '1995', '1994', '1993', '1992',\n",
       "       '1991', '1990'], dtype=object)"
      ]
     },
     "execution_count": 25,
     "metadata": {},
     "output_type": "execute_result"
    }
   ],
   "source": [
    "high_percent_change_GDP = gdp_df[gdp_df[\"Country\"].isin([\"Equatorial Guinea\",\"China\"])]\n",
    "high_percent_change_GDP[\"Year\"].unique()\n"
   ]
  },
  {
   "cell_type": "code",
   "execution_count": 26,
   "id": "9920817d-0ffa-4562-bc94-a4800eae22a4",
   "metadata": {},
   "outputs": [
    {
     "data": {
      "image/png": "[encoded data removed]",
      "text/plain": [
       "<Figure size 450x600 with 2 Axes>"
      ]
     },
     "metadata": {},
     "output_type": "display_data"
    }
   ],
   "source": [
    "#used seaborn facetgrid method to compare the plots\n",
    "fg = sns.FacetGrid(high_percent_change_GDP, col =\"Country\", col_wrap =1, aspect =1.5)          \n",
    "fg.map(sns.lineplot, \"Year\", \"GDP_Per_Capita\")\n",
    "fg.set(xlim =(\"1990\", \"2023\"),xticks=[\"1990\",\"1995\",\"2000\",\"2005\",\"2010\",\"2015\",\"2020\",\"2023\"]);"
   ]
  },
  {
   "cell_type": "markdown",
   "id": "2c51771d-ba94-4ffc-ac89-c8dd7ba55b58",
   "metadata": {},
   "source": [
    "\n",
    "17. Read in continents.csv contained in the `data` folder into a new dataframe called `continents`. We will be using this dataframe to add a new column to our dataset."
   ]
  },
  {
   "cell_type": "code",
   "execution_count": 27,
   "id": "e894dbdb-1461-49f6-a669-edb852e62da9",
   "metadata": {},
   "outputs": [
    {
     "data": {
      "text/html": [
       "<div>\n",
       "<style scoped>\n",
       "    .dataframe tbody tr th:only-of-type {\n",
       "        vertical-align: middle;\n",
       "    }\n",
       "\n",
       "    .dataframe tbody tr th {\n",
       "        vertical-align: top;\n",
       "    }\n",
       "\n",
       "    .dataframe thead th {\n",
       "        text-align: right;\n",
       "    }\n",
       "</style>\n",
       "<table border=\"1\" class=\"dataframe\">\n",
       "  <thead>\n",
       "    <tr style=\"text-align: right;\">\n",
       "      <th></th>\n",
       "      <th>Continent</th>\n",
       "      <th>Country</th>\n",
       "    </tr>\n",
       "  </thead>\n",
       "  <tbody>\n",
       "    <tr>\n",
       "      <th>0</th>\n",
       "      <td>Asia</td>\n",
       "      <td>Afghanistan</td>\n",
       "    </tr>\n",
       "    <tr>\n",
       "      <th>1</th>\n",
       "      <td>Europe</td>\n",
       "      <td>Albania</td>\n",
       "    </tr>\n",
       "    <tr>\n",
       "      <th>2</th>\n",
       "      <td>Africa</td>\n",
       "      <td>Algeria</td>\n",
       "    </tr>\n",
       "    <tr>\n",
       "      <th>3</th>\n",
       "      <td>Europe</td>\n",
       "      <td>Andorra</td>\n",
       "    </tr>\n",
       "    <tr>\n",
       "      <th>4</th>\n",
       "      <td>Africa</td>\n",
       "      <td>Angola</td>\n",
       "    </tr>\n",
       "  </tbody>\n",
       "</table>\n",
       "</div>"
      ],
      "text/plain": [
       "  Continent      Country\n",
       "0      Asia  Afghanistan\n",
       "1    Europe      Albania\n",
       "2    Africa      Algeria\n",
       "3    Europe      Andorra\n",
       "4    Africa       Angola"
      ]
     },
     "execution_count": 27,
     "metadata": {},
     "output_type": "execute_result"
    }
   ],
   "source": [
    "continents = pd.read_csv(\"../data/continents.csv\")\n",
    "continents.head()"
   ]
  },
  {
   "cell_type": "markdown",
   "id": "74db2d9c-9c44-4c33-957a-17544eb4a7e6",
   "metadata": {},
   "source": [
    "18. Merge gdp_df and continents. Keep only the countries that appear in both data frames. Save the result back to gdp_df."
   ]
  },
  {
   "cell_type": "code",
   "execution_count": 28,
   "id": "7df6738f-3fd9-40d1-81ef-82419367ff17",
   "metadata": {},
   "outputs": [
    {
     "data": {
      "text/html": [
       "<div>\n",
       "<style scoped>\n",
       "    .dataframe tbody tr th:only-of-type {\n",
       "        vertical-align: middle;\n",
       "    }\n",
       "\n",
       "    .dataframe tbody tr th {\n",
       "        vertical-align: top;\n",
       "    }\n",
       "\n",
       "    .dataframe thead th {\n",
       "        text-align: right;\n",
       "    }\n",
       "</style>\n",
       "<table border=\"1\" class=\"dataframe\">\n",
       "  <thead>\n",
       "    <tr style=\"text-align: right;\">\n",
       "      <th></th>\n",
       "      <th>Country</th>\n",
       "      <th>Year</th>\n",
       "      <th>GDP_Per_Capita</th>\n",
       "      <th>Continent</th>\n",
       "    </tr>\n",
       "  </thead>\n",
       "  <tbody>\n",
       "    <tr>\n",
       "      <th>0</th>\n",
       "      <td>Afghanistan</td>\n",
       "      <td>2023</td>\n",
       "      <td>1992.424394</td>\n",
       "      <td>Asia</td>\n",
       "    </tr>\n",
       "    <tr>\n",
       "      <th>1</th>\n",
       "      <td>Afghanistan</td>\n",
       "      <td>2022</td>\n",
       "      <td>1981.710168</td>\n",
       "      <td>Asia</td>\n",
       "    </tr>\n",
       "    <tr>\n",
       "      <th>2</th>\n",
       "      <td>Afghanistan</td>\n",
       "      <td>2021</td>\n",
       "      <td>2144.166570</td>\n",
       "      <td>Asia</td>\n",
       "    </tr>\n",
       "    <tr>\n",
       "      <th>3</th>\n",
       "      <td>Afghanistan</td>\n",
       "      <td>2020</td>\n",
       "      <td>2769.685745</td>\n",
       "      <td>Asia</td>\n",
       "    </tr>\n",
       "    <tr>\n",
       "      <th>4</th>\n",
       "      <td>Afghanistan</td>\n",
       "      <td>2019</td>\n",
       "      <td>2927.245144</td>\n",
       "      <td>Asia</td>\n",
       "    </tr>\n",
       "    <tr>\n",
       "      <th>...</th>\n",
       "      <td>...</td>\n",
       "      <td>...</td>\n",
       "      <td>...</td>\n",
       "      <td>...</td>\n",
       "    </tr>\n",
       "    <tr>\n",
       "      <th>6258</th>\n",
       "      <td>Zimbabwe</td>\n",
       "      <td>1994</td>\n",
       "      <td>3965.730986</td>\n",
       "      <td>Africa</td>\n",
       "    </tr>\n",
       "    <tr>\n",
       "      <th>6259</th>\n",
       "      <td>Zimbabwe</td>\n",
       "      <td>1993</td>\n",
       "      <td>3634.750494</td>\n",
       "      <td>Africa</td>\n",
       "    </tr>\n",
       "    <tr>\n",
       "      <th>6260</th>\n",
       "      <td>Zimbabwe</td>\n",
       "      <td>1992</td>\n",
       "      <td>3649.891947</td>\n",
       "      <td>Africa</td>\n",
       "    </tr>\n",
       "    <tr>\n",
       "      <th>6261</th>\n",
       "      <td>Zimbabwe</td>\n",
       "      <td>1991</td>\n",
       "      <td>4126.405247</td>\n",
       "      <td>Africa</td>\n",
       "    </tr>\n",
       "    <tr>\n",
       "      <th>6262</th>\n",
       "      <td>Zimbabwe</td>\n",
       "      <td>1990</td>\n",
       "      <td>4013.299059</td>\n",
       "      <td>Africa</td>\n",
       "    </tr>\n",
       "  </tbody>\n",
       "</table>\n",
       "<p>6263 rows × 4 columns</p>\n",
       "</div>"
      ],
      "text/plain": [
       "          Country  Year  GDP_Per_Capita Continent\n",
       "0     Afghanistan  2023     1992.424394      Asia\n",
       "1     Afghanistan  2022     1981.710168      Asia\n",
       "2     Afghanistan  2021     2144.166570      Asia\n",
       "3     Afghanistan  2020     2769.685745      Asia\n",
       "4     Afghanistan  2019     2927.245144      Asia\n",
       "...           ...   ...             ...       ...\n",
       "6258     Zimbabwe  1994     3965.730986    Africa\n",
       "6259     Zimbabwe  1993     3634.750494    Africa\n",
       "6260     Zimbabwe  1992     3649.891947    Africa\n",
       "6261     Zimbabwe  1991     4126.405247    Africa\n",
       "6262     Zimbabwe  1990     4013.299059    Africa\n",
       "\n",
       "[6263 rows x 4 columns]"
      ]
     },
     "execution_count": 28,
     "metadata": {},
     "output_type": "execute_result"
    }
   ],
   "source": [
    "gdp_df = pd.merge(gdp_df,continents, on = \"Country\", how =\"inner\")\n",
    "gdp_df #merge-merges two dataframes on the common column "
   ]
  },
  {
   "cell_type": "markdown",
   "id": "ef1e63ad-db6d-4723-aaf9-83d0e47ceaa7",
   "metadata": {},
   "source": [
    "19. Determine the number of countries per continent. Create a bar chart showing this."
   ]
  },
  {
   "cell_type": "code",
   "execution_count": 29,
   "id": "924a93fd-ccbf-4746-9ce4-35600c542309",
   "metadata": {},
   "outputs": [
    {
     "data": {
      "image/png": "[encoded data removed]",
      "text/plain": [
       "<Figure size 640x480 with 1 Axes>"
      ]
     },
     "metadata": {},
     "output_type": "display_data"
    }
   ],
   "source": [
    "countries_per_continent = gdp_df.groupby(\"Continent\")[\"Country\"].nunique() #gdp_df_unique = gdp_df.drop_duplicates(subset=['Continent', 'Country'])\n",
    "countries_per_continent.plot(kind =\"bar\", ylabel =\"no.of countries\", title = \"Countries per Continent\")\n",
    "plt.xticks(rotation=45, ha='right')\n",
    "plt.show();\n"
   ]
  },
  {
   "cell_type": "markdown",
   "id": "fdc02607-5571-4ef5-8c17-966c55089150",
   "metadata": {},
   "source": [
    "20. Create a seaborn boxplot showing GDP per capita in 2021 split out by continent. What do you notice?"
   ]
  },
  {
   "cell_type": "code",
   "execution_count": 30,
   "id": "b25fcd60-c783-411e-9c0a-52711b2231f2",
   "metadata": {},
   "outputs": [
    {
     "data": {
      "image/png": "[encoded data removed]",
      "text/plain": [
       "<Figure size 1000x600 with 1 Axes>"
      ]
     },
     "metadata": {},
     "output_type": "display_data"
    }
   ],
   "source": [
    "gdp_df_2021 = gdp_df[gdp_df[\"Year\"] == \"2021\"].sort_values(by=\"Continent\")\n",
    "fig, ax = plt.subplots(figsize=(10, 6))\n",
    "sns.boxplot(data = gdp_df_2021, x=\"Continent\", y =\"GDP_Per_Capita\", ax =ax)\n",
    "plt.title(\"GDP per capita in 2021 by continent\");"
   ]
  },
  {
   "cell_type": "markdown",
   "id": "065eceba-c1b5-457f-820b-dc0a9a8bc93b",
   "metadata": {},
   "source": [
    "The average GDP per capita in 2021 is high for Europe compare to other continents and Africa has the least avg GDP per Capita."
   ]
  },
  {
   "cell_type": "markdown",
   "id": "48162245-5f4d-49de-98b3-265948c88973",
   "metadata": {},
   "source": [
    "21. Download the full csv containing Life expectancy at birth, total (years) from [https://data.worldbank.org/indicator/SP.DYN.LE00.IN?name_desc=false](https://data.worldbank.org/indicator/SP.DYN.LE00.IN?name_desc=false). Read this data into a DataFrame named `life_expectancy`. Note: When reading this dataset it, you may encounter an error. Modify your `read_csv` call to correct this **without modifying the original csv file**.\n",
    " "
   ]
  },
  {
   "cell_type": "code",
   "execution_count": 31,
   "id": "6d5e9064-677f-466b-9f3f-5d46eafd32a9",
   "metadata": {},
   "outputs": [
    {
     "data": {
      "text/html": [
       "<div>\n",
       "<style scoped>\n",
       "    .dataframe tbody tr th:only-of-type {\n",
       "        vertical-align: middle;\n",
       "    }\n",
       "\n",
       "    .dataframe tbody tr th {\n",
       "        vertical-align: top;\n",
       "    }\n",
       "\n",
       "    .dataframe thead th {\n",
       "        text-align: right;\n",
       "    }\n",
       "</style>\n",
       "<table border=\"1\" class=\"dataframe\">\n",
       "  <thead>\n",
       "    <tr style=\"text-align: right;\">\n",
       "      <th></th>\n",
       "      <th>Country Name</th>\n",
       "      <th>Country Code</th>\n",
       "      <th>Indicator Name</th>\n",
       "      <th>Indicator Code</th>\n",
       "      <th>1960</th>\n",
       "      <th>1961</th>\n",
       "      <th>1962</th>\n",
       "      <th>1963</th>\n",
       "      <th>1964</th>\n",
       "      <th>1965</th>\n",
       "      <th>...</th>\n",
       "      <th>2016</th>\n",
       "      <th>2017</th>\n",
       "      <th>2018</th>\n",
       "      <th>2019</th>\n",
       "      <th>2020</th>\n",
       "      <th>2021</th>\n",
       "      <th>2022</th>\n",
       "      <th>2023</th>\n",
       "      <th>2024</th>\n",
       "      <th>Unnamed: 69</th>\n",
       "    </tr>\n",
       "  </thead>\n",
       "  <tbody>\n",
       "    <tr>\n",
       "      <th>0</th>\n",
       "      <td>Aruba</td>\n",
       "      <td>ABW</td>\n",
       "      <td>Life expectancy at birth, total (years)</td>\n",
       "      <td>SP.DYN.LE00.IN</td>\n",
       "      <td>64.049000</td>\n",
       "      <td>64.215000</td>\n",
       "      <td>64.602000</td>\n",
       "      <td>64.944000</td>\n",
       "      <td>65.303000</td>\n",
       "      <td>65.615000</td>\n",
       "      <td>...</td>\n",
       "      <td>75.540000</td>\n",
       "      <td>75.620000</td>\n",
       "      <td>75.880000</td>\n",
       "      <td>76.019000</td>\n",
       "      <td>75.406000</td>\n",
       "      <td>73.655000</td>\n",
       "      <td>76.226000</td>\n",
       "      <td>76.353000</td>\n",
       "      <td>NaN</td>\n",
       "      <td>NaN</td>\n",
       "    </tr>\n",
       "    <tr>\n",
       "      <th>1</th>\n",
       "      <td>Africa Eastern and Southern</td>\n",
       "      <td>AFE</td>\n",
       "      <td>Life expectancy at birth, total (years)</td>\n",
       "      <td>SP.DYN.LE00.IN</td>\n",
       "      <td>44.169658</td>\n",
       "      <td>44.468838</td>\n",
       "      <td>44.877890</td>\n",
       "      <td>45.160583</td>\n",
       "      <td>45.535695</td>\n",
       "      <td>45.770723</td>\n",
       "      <td>...</td>\n",
       "      <td>62.167981</td>\n",
       "      <td>62.591275</td>\n",
       "      <td>63.330691</td>\n",
       "      <td>63.857261</td>\n",
       "      <td>63.766484</td>\n",
       "      <td>62.979999</td>\n",
       "      <td>64.487020</td>\n",
       "      <td>65.146291</td>\n",
       "      <td>NaN</td>\n",
       "      <td>NaN</td>\n",
       "    </tr>\n",
       "    <tr>\n",
       "      <th>2</th>\n",
       "      <td>Afghanistan</td>\n",
       "      <td>AFG</td>\n",
       "      <td>Life expectancy at birth, total (years)</td>\n",
       "      <td>SP.DYN.LE00.IN</td>\n",
       "      <td>32.799000</td>\n",
       "      <td>33.291000</td>\n",
       "      <td>33.757000</td>\n",
       "      <td>34.201000</td>\n",
       "      <td>34.673000</td>\n",
       "      <td>35.124000</td>\n",
       "      <td>...</td>\n",
       "      <td>62.646000</td>\n",
       "      <td>62.406000</td>\n",
       "      <td>62.443000</td>\n",
       "      <td>62.941000</td>\n",
       "      <td>61.454000</td>\n",
       "      <td>60.417000</td>\n",
       "      <td>65.617000</td>\n",
       "      <td>66.035000</td>\n",
       "      <td>NaN</td>\n",
       "      <td>NaN</td>\n",
       "    </tr>\n",
       "    <tr>\n",
       "      <th>3</th>\n",
       "      <td>Africa Western and Central</td>\n",
       "      <td>AFW</td>\n",
       "      <td>Life expectancy at birth, total (years)</td>\n",
       "      <td>SP.DYN.LE00.IN</td>\n",
       "      <td>37.779636</td>\n",
       "      <td>38.058956</td>\n",
       "      <td>38.681792</td>\n",
       "      <td>38.936918</td>\n",
       "      <td>39.194580</td>\n",
       "      <td>39.479784</td>\n",
       "      <td>...</td>\n",
       "      <td>56.392452</td>\n",
       "      <td>56.626439</td>\n",
       "      <td>57.036976</td>\n",
       "      <td>57.149847</td>\n",
       "      <td>57.364425</td>\n",
       "      <td>57.362572</td>\n",
       "      <td>57.987813</td>\n",
       "      <td>58.855722</td>\n",
       "      <td>NaN</td>\n",
       "      <td>NaN</td>\n",
       "    </tr>\n",
       "    <tr>\n",
       "      <th>4</th>\n",
       "      <td>Angola</td>\n",
       "      <td>AGO</td>\n",
       "      <td>Life expectancy at birth, total (years)</td>\n",
       "      <td>SP.DYN.LE00.IN</td>\n",
       "      <td>37.933000</td>\n",
       "      <td>36.902000</td>\n",
       "      <td>37.168000</td>\n",
       "      <td>37.419000</td>\n",
       "      <td>37.704000</td>\n",
       "      <td>37.968000</td>\n",
       "      <td>...</td>\n",
       "      <td>61.619000</td>\n",
       "      <td>62.122000</td>\n",
       "      <td>62.622000</td>\n",
       "      <td>63.051000</td>\n",
       "      <td>63.116000</td>\n",
       "      <td>62.958000</td>\n",
       "      <td>64.246000</td>\n",
       "      <td>64.617000</td>\n",
       "      <td>NaN</td>\n",
       "      <td>NaN</td>\n",
       "    </tr>\n",
       "  </tbody>\n",
       "</table>\n",
       "<p>5 rows × 70 columns</p>\n",
       "</div>"
      ],
      "text/plain": [
       "                  Country Name Country Code  \\\n",
       "0                        Aruba          ABW   \n",
       "1  Africa Eastern and Southern          AFE   \n",
       "2                  Afghanistan          AFG   \n",
       "3   Africa Western and Central          AFW   \n",
       "4                       Angola          AGO   \n",
       "\n",
       "                            Indicator Name  Indicator Code       1960  \\\n",
       "0  Life expectancy at birth, total (years)  SP.DYN.LE00.IN  64.049000   \n",
       "1  Life expectancy at birth, total (years)  SP.DYN.LE00.IN  44.169658   \n",
       "2  Life expectancy at birth, total (years)  SP.DYN.LE00.IN  32.799000   \n",
       "3  Life expectancy at birth, total (years)  SP.DYN.LE00.IN  37.779636   \n",
       "4  Life expectancy at birth, total (years)  SP.DYN.LE00.IN  37.933000   \n",
       "\n",
       "        1961       1962       1963       1964       1965  ...       2016  \\\n",
       "0  64.215000  64.602000  64.944000  65.303000  65.615000  ...  75.540000   \n",
       "1  44.468838  44.877890  45.160583  45.535695  45.770723  ...  62.167981   \n",
       "2  33.291000  33.757000  34.201000  34.673000  35.124000  ...  62.646000   \n",
       "3  38.058956  38.681792  38.936918  39.194580  39.479784  ...  56.392452   \n",
       "4  36.902000  37.168000  37.419000  37.704000  37.968000  ...  61.619000   \n",
       "\n",
       "        2017       2018       2019       2020       2021       2022  \\\n",
       "0  75.620000  75.880000  76.019000  75.406000  73.655000  76.226000   \n",
       "1  62.591275  63.330691  63.857261  63.766484  62.979999  64.487020   \n",
       "2  62.406000  62.443000  62.941000  61.454000  60.417000  65.617000   \n",
       "3  56.626439  57.036976  57.149847  57.364425  57.362572  57.987813   \n",
       "4  62.122000  62.622000  63.051000  63.116000  62.958000  64.246000   \n",
       "\n",
       "        2023  2024  Unnamed: 69  \n",
       "0  76.353000   NaN          NaN  \n",
       "1  65.146291   NaN          NaN  \n",
       "2  66.035000   NaN          NaN  \n",
       "3  58.855722   NaN          NaN  \n",
       "4  64.617000   NaN          NaN  \n",
       "\n",
       "[5 rows x 70 columns]"
      ]
     },
     "execution_count": 31,
     "metadata": {},
     "output_type": "execute_result"
    }
   ],
   "source": [
    "life_expectancy = pd.read_csv(\"../data/life_expectency.csv\", skiprows = 4)\n",
    "life_expectancy.head()\n"
   ]
  },
  {
   "cell_type": "code",
   "execution_count": 32,
   "id": "4775be88-de2f-4ddc-a2cb-a90a7d0a9a96",
   "metadata": {},
   "outputs": [
    {
     "data": {
      "text/plain": [
       "Index(['Country Name', 'Country Code', 'Indicator Name', 'Indicator Code',\n",
       "       '1960', '1961', '1962', '1963', '1964', '1965', '1966', '1967', '1968',\n",
       "       '1969', '1970', '1971', '1972', '1973', '1974', '1975', '1976', '1977',\n",
       "       '1978', '1979', '1980', '1981', '1982', '1983', '1984', '1985', '1986',\n",
       "       '1987', '1988', '1989', '1990', '1991', '1992', '1993', '1994', '1995',\n",
       "       '1996', '1997', '1998', '1999', '2000', '2001', '2002', '2003', '2004',\n",
       "       '2005', '2006', '2007', '2008', '2009', '2010', '2011', '2012', '2013',\n",
       "       '2014', '2015', '2016', '2017', '2018', '2019', '2020', '2021', '2022',\n",
       "       '2023', '2024', 'Unnamed: 69'],\n",
       "      dtype='object')"
      ]
     },
     "execution_count": 32,
     "metadata": {},
     "output_type": "execute_result"
    }
   ],
   "source": [
    "life_expectancy.columns"
   ]
  },
  {
   "cell_type": "markdown",
   "id": "262d97d3-b14e-4d79-9c89-1eff3396b4e4",
   "metadata": {},
   "source": [
    "22. Drop the Country Code, Indicator Name, and Indicator Code columns. Then use [`.melt()`](https://pandas.pydata.org/docs/reference/api/pandas.melt.html) to convert your data from wide to long. That is, instead of having one row per country and multiple colums per year, we want to have multiple rows per country and a single column for year. After melting, rename the columns to `Country`, `Year`, and `Life_Expectancy`.\n"
   ]
  },
  {
   "cell_type": "code",
   "execution_count": 33,
   "id": "49985ec0-3df6-4c89-afd9-b781ae8d605f",
   "metadata": {},
   "outputs": [
    {
     "data": {
      "text/html": [
       "<div>\n",
       "<style scoped>\n",
       "    .dataframe tbody tr th:only-of-type {\n",
       "        vertical-align: middle;\n",
       "    }\n",
       "\n",
       "    .dataframe tbody tr th {\n",
       "        vertical-align: top;\n",
       "    }\n",
       "\n",
       "    .dataframe thead th {\n",
       "        text-align: right;\n",
       "    }\n",
       "</style>\n",
       "<table border=\"1\" class=\"dataframe\">\n",
       "  <thead>\n",
       "    <tr style=\"text-align: right;\">\n",
       "      <th></th>\n",
       "      <th>Country Name</th>\n",
       "      <th>1960</th>\n",
       "      <th>1961</th>\n",
       "      <th>1962</th>\n",
       "      <th>1963</th>\n",
       "      <th>1964</th>\n",
       "      <th>1965</th>\n",
       "      <th>1966</th>\n",
       "      <th>1967</th>\n",
       "      <th>1968</th>\n",
       "      <th>...</th>\n",
       "      <th>2016</th>\n",
       "      <th>2017</th>\n",
       "      <th>2018</th>\n",
       "      <th>2019</th>\n",
       "      <th>2020</th>\n",
       "      <th>2021</th>\n",
       "      <th>2022</th>\n",
       "      <th>2023</th>\n",
       "      <th>2024</th>\n",
       "      <th>Unnamed: 69</th>\n",
       "    </tr>\n",
       "  </thead>\n",
       "  <tbody>\n",
       "    <tr>\n",
       "      <th>0</th>\n",
       "      <td>Aruba</td>\n",
       "      <td>64.049000</td>\n",
       "      <td>64.215000</td>\n",
       "      <td>64.602000</td>\n",
       "      <td>64.944000</td>\n",
       "      <td>65.303000</td>\n",
       "      <td>65.615000</td>\n",
       "      <td>66.126000</td>\n",
       "      <td>66.385000</td>\n",
       "      <td>66.744000</td>\n",
       "      <td>...</td>\n",
       "      <td>75.540000</td>\n",
       "      <td>75.620000</td>\n",
       "      <td>75.880000</td>\n",
       "      <td>76.019000</td>\n",
       "      <td>75.406000</td>\n",
       "      <td>73.655000</td>\n",
       "      <td>76.226000</td>\n",
       "      <td>76.353000</td>\n",
       "      <td>NaN</td>\n",
       "      <td>NaN</td>\n",
       "    </tr>\n",
       "    <tr>\n",
       "      <th>1</th>\n",
       "      <td>Africa Eastern and Southern</td>\n",
       "      <td>44.169658</td>\n",
       "      <td>44.468838</td>\n",
       "      <td>44.877890</td>\n",
       "      <td>45.160583</td>\n",
       "      <td>45.535695</td>\n",
       "      <td>45.770723</td>\n",
       "      <td>45.765725</td>\n",
       "      <td>46.440745</td>\n",
       "      <td>46.738632</td>\n",
       "      <td>...</td>\n",
       "      <td>62.167981</td>\n",
       "      <td>62.591275</td>\n",
       "      <td>63.330691</td>\n",
       "      <td>63.857261</td>\n",
       "      <td>63.766484</td>\n",
       "      <td>62.979999</td>\n",
       "      <td>64.487020</td>\n",
       "      <td>65.146291</td>\n",
       "      <td>NaN</td>\n",
       "      <td>NaN</td>\n",
       "    </tr>\n",
       "    <tr>\n",
       "      <th>2</th>\n",
       "      <td>Afghanistan</td>\n",
       "      <td>32.799000</td>\n",
       "      <td>33.291000</td>\n",
       "      <td>33.757000</td>\n",
       "      <td>34.201000</td>\n",
       "      <td>34.673000</td>\n",
       "      <td>35.124000</td>\n",
       "      <td>35.583000</td>\n",
       "      <td>36.042000</td>\n",
       "      <td>36.510000</td>\n",
       "      <td>...</td>\n",
       "      <td>62.646000</td>\n",
       "      <td>62.406000</td>\n",
       "      <td>62.443000</td>\n",
       "      <td>62.941000</td>\n",
       "      <td>61.454000</td>\n",
       "      <td>60.417000</td>\n",
       "      <td>65.617000</td>\n",
       "      <td>66.035000</td>\n",
       "      <td>NaN</td>\n",
       "      <td>NaN</td>\n",
       "    </tr>\n",
       "    <tr>\n",
       "      <th>3</th>\n",
       "      <td>Africa Western and Central</td>\n",
       "      <td>37.779636</td>\n",
       "      <td>38.058956</td>\n",
       "      <td>38.681792</td>\n",
       "      <td>38.936918</td>\n",
       "      <td>39.194580</td>\n",
       "      <td>39.479784</td>\n",
       "      <td>39.719248</td>\n",
       "      <td>39.529359</td>\n",
       "      <td>40.258890</td>\n",
       "      <td>...</td>\n",
       "      <td>56.392452</td>\n",
       "      <td>56.626439</td>\n",
       "      <td>57.036976</td>\n",
       "      <td>57.149847</td>\n",
       "      <td>57.364425</td>\n",
       "      <td>57.362572</td>\n",
       "      <td>57.987813</td>\n",
       "      <td>58.855722</td>\n",
       "      <td>NaN</td>\n",
       "      <td>NaN</td>\n",
       "    </tr>\n",
       "    <tr>\n",
       "      <th>4</th>\n",
       "      <td>Angola</td>\n",
       "      <td>37.933000</td>\n",
       "      <td>36.902000</td>\n",
       "      <td>37.168000</td>\n",
       "      <td>37.419000</td>\n",
       "      <td>37.704000</td>\n",
       "      <td>37.968000</td>\n",
       "      <td>38.258000</td>\n",
       "      <td>38.616000</td>\n",
       "      <td>38.968000</td>\n",
       "      <td>...</td>\n",
       "      <td>61.619000</td>\n",
       "      <td>62.122000</td>\n",
       "      <td>62.622000</td>\n",
       "      <td>63.051000</td>\n",
       "      <td>63.116000</td>\n",
       "      <td>62.958000</td>\n",
       "      <td>64.246000</td>\n",
       "      <td>64.617000</td>\n",
       "      <td>NaN</td>\n",
       "      <td>NaN</td>\n",
       "    </tr>\n",
       "    <tr>\n",
       "      <th>...</th>\n",
       "      <td>...</td>\n",
       "      <td>...</td>\n",
       "      <td>...</td>\n",
       "      <td>...</td>\n",
       "      <td>...</td>\n",
       "      <td>...</td>\n",
       "      <td>...</td>\n",
       "      <td>...</td>\n",
       "      <td>...</td>\n",
       "      <td>...</td>\n",
       "      <td>...</td>\n",
       "      <td>...</td>\n",
       "      <td>...</td>\n",
       "      <td>...</td>\n",
       "      <td>...</td>\n",
       "      <td>...</td>\n",
       "      <td>...</td>\n",
       "      <td>...</td>\n",
       "      <td>...</td>\n",
       "      <td>...</td>\n",
       "      <td>...</td>\n",
       "    </tr>\n",
       "    <tr>\n",
       "      <th>261</th>\n",
       "      <td>Kosovo</td>\n",
       "      <td>48.702000</td>\n",
       "      <td>49.883000</td>\n",
       "      <td>48.378000</td>\n",
       "      <td>50.098000</td>\n",
       "      <td>51.119000</td>\n",
       "      <td>52.003000</td>\n",
       "      <td>52.472000</td>\n",
       "      <td>53.051000</td>\n",
       "      <td>53.606000</td>\n",
       "      <td>...</td>\n",
       "      <td>76.748000</td>\n",
       "      <td>77.105000</td>\n",
       "      <td>77.117000</td>\n",
       "      <td>77.249000</td>\n",
       "      <td>74.212000</td>\n",
       "      <td>74.981000</td>\n",
       "      <td>77.623000</td>\n",
       "      <td>78.033000</td>\n",
       "      <td>NaN</td>\n",
       "      <td>NaN</td>\n",
       "    </tr>\n",
       "    <tr>\n",
       "      <th>262</th>\n",
       "      <td>Yemen, Rep.</td>\n",
       "      <td>33.462000</td>\n",
       "      <td>34.058000</td>\n",
       "      <td>33.669000</td>\n",
       "      <td>33.431000</td>\n",
       "      <td>34.907000</td>\n",
       "      <td>35.592000</td>\n",
       "      <td>36.264000</td>\n",
       "      <td>37.079000</td>\n",
       "      <td>37.990000</td>\n",
       "      <td>...</td>\n",
       "      <td>67.105000</td>\n",
       "      <td>67.120000</td>\n",
       "      <td>65.915000</td>\n",
       "      <td>66.567000</td>\n",
       "      <td>66.435000</td>\n",
       "      <td>66.019000</td>\n",
       "      <td>67.952000</td>\n",
       "      <td>69.295000</td>\n",
       "      <td>NaN</td>\n",
       "      <td>NaN</td>\n",
       "    </tr>\n",
       "    <tr>\n",
       "      <th>263</th>\n",
       "      <td>South Africa</td>\n",
       "      <td>52.575000</td>\n",
       "      <td>53.067000</td>\n",
       "      <td>53.566000</td>\n",
       "      <td>53.895000</td>\n",
       "      <td>54.215000</td>\n",
       "      <td>54.427000</td>\n",
       "      <td>54.731000</td>\n",
       "      <td>54.955000</td>\n",
       "      <td>55.191000</td>\n",
       "      <td>...</td>\n",
       "      <td>64.749000</td>\n",
       "      <td>65.422000</td>\n",
       "      <td>65.726000</td>\n",
       "      <td>66.071000</td>\n",
       "      <td>65.150000</td>\n",
       "      <td>62.010000</td>\n",
       "      <td>65.454000</td>\n",
       "      <td>66.139000</td>\n",
       "      <td>NaN</td>\n",
       "      <td>NaN</td>\n",
       "    </tr>\n",
       "    <tr>\n",
       "      <th>264</th>\n",
       "      <td>Zambia</td>\n",
       "      <td>50.648000</td>\n",
       "      <td>51.041000</td>\n",
       "      <td>51.331000</td>\n",
       "      <td>51.605000</td>\n",
       "      <td>51.170000</td>\n",
       "      <td>52.079000</td>\n",
       "      <td>52.290000</td>\n",
       "      <td>52.512000</td>\n",
       "      <td>52.719000</td>\n",
       "      <td>...</td>\n",
       "      <td>61.129000</td>\n",
       "      <td>61.564000</td>\n",
       "      <td>62.138000</td>\n",
       "      <td>62.914000</td>\n",
       "      <td>63.361000</td>\n",
       "      <td>62.363000</td>\n",
       "      <td>65.279000</td>\n",
       "      <td>66.349000</td>\n",
       "      <td>NaN</td>\n",
       "      <td>NaN</td>\n",
       "    </tr>\n",
       "    <tr>\n",
       "      <th>265</th>\n",
       "      <td>Zimbabwe</td>\n",
       "      <td>53.492000</td>\n",
       "      <td>53.966000</td>\n",
       "      <td>54.453000</td>\n",
       "      <td>54.942000</td>\n",
       "      <td>55.431000</td>\n",
       "      <td>55.905000</td>\n",
       "      <td>56.359000</td>\n",
       "      <td>56.766000</td>\n",
       "      <td>57.145000</td>\n",
       "      <td>...</td>\n",
       "      <td>59.760000</td>\n",
       "      <td>60.263000</td>\n",
       "      <td>60.906000</td>\n",
       "      <td>61.060000</td>\n",
       "      <td>61.530000</td>\n",
       "      <td>60.135000</td>\n",
       "      <td>62.360000</td>\n",
       "      <td>62.775000</td>\n",
       "      <td>NaN</td>\n",
       "      <td>NaN</td>\n",
       "    </tr>\n",
       "  </tbody>\n",
       "</table>\n",
       "<p>266 rows × 67 columns</p>\n",
       "</div>"
      ],
      "text/plain": [
       "                    Country Name       1960       1961       1962       1963  \\\n",
       "0                          Aruba  64.049000  64.215000  64.602000  64.944000   \n",
       "1    Africa Eastern and Southern  44.169658  44.468838  44.877890  45.160583   \n",
       "2                    Afghanistan  32.799000  33.291000  33.757000  34.201000   \n",
       "3     Africa Western and Central  37.779636  38.058956  38.681792  38.936918   \n",
       "4                         Angola  37.933000  36.902000  37.168000  37.419000   \n",
       "..                           ...        ...        ...        ...        ...   \n",
       "261                       Kosovo  48.702000  49.883000  48.378000  50.098000   \n",
       "262                  Yemen, Rep.  33.462000  34.058000  33.669000  33.431000   \n",
       "263                 South Africa  52.575000  53.067000  53.566000  53.895000   \n",
       "264                       Zambia  50.648000  51.041000  51.331000  51.605000   \n",
       "265                     Zimbabwe  53.492000  53.966000  54.453000  54.942000   \n",
       "\n",
       "          1964       1965       1966       1967       1968  ...       2016  \\\n",
       "0    65.303000  65.615000  66.126000  66.385000  66.744000  ...  75.540000   \n",
       "1    45.535695  45.770723  45.765725  46.440745  46.738632  ...  62.167981   \n",
       "2    34.673000  35.124000  35.583000  36.042000  36.510000  ...  62.646000   \n",
       "3    39.194580  39.479784  39.719248  39.529359  40.258890  ...  56.392452   \n",
       "4    37.704000  37.968000  38.258000  38.616000  38.968000  ...  61.619000   \n",
       "..         ...        ...        ...        ...        ...  ...        ...   \n",
       "261  51.119000  52.003000  52.472000  53.051000  53.606000  ...  76.748000   \n",
       "262  34.907000  35.592000  36.264000  37.079000  37.990000  ...  67.105000   \n",
       "263  54.215000  54.427000  54.731000  54.955000  55.191000  ...  64.749000   \n",
       "264  51.170000  52.079000  52.290000  52.512000  52.719000  ...  61.129000   \n",
       "265  55.431000  55.905000  56.359000  56.766000  57.145000  ...  59.760000   \n",
       "\n",
       "          2017       2018       2019       2020       2021       2022  \\\n",
       "0    75.620000  75.880000  76.019000  75.406000  73.655000  76.226000   \n",
       "1    62.591275  63.330691  63.857261  63.766484  62.979999  64.487020   \n",
       "2    62.406000  62.443000  62.941000  61.454000  60.417000  65.617000   \n",
       "3    56.626439  57.036976  57.149847  57.364425  57.362572  57.987813   \n",
       "4    62.122000  62.622000  63.051000  63.116000  62.958000  64.246000   \n",
       "..         ...        ...        ...        ...        ...        ...   \n",
       "261  77.105000  77.117000  77.249000  74.212000  74.981000  77.623000   \n",
       "262  67.120000  65.915000  66.567000  66.435000  66.019000  67.952000   \n",
       "263  65.422000  65.726000  66.071000  65.150000  62.010000  65.454000   \n",
       "264  61.564000  62.138000  62.914000  63.361000  62.363000  65.279000   \n",
       "265  60.263000  60.906000  61.060000  61.530000  60.135000  62.360000   \n",
       "\n",
       "          2023  2024  Unnamed: 69  \n",
       "0    76.353000   NaN          NaN  \n",
       "1    65.146291   NaN          NaN  \n",
       "2    66.035000   NaN          NaN  \n",
       "3    58.855722   NaN          NaN  \n",
       "4    64.617000   NaN          NaN  \n",
       "..         ...   ...          ...  \n",
       "261  78.033000   NaN          NaN  \n",
       "262  69.295000   NaN          NaN  \n",
       "263  66.139000   NaN          NaN  \n",
       "264  66.349000   NaN          NaN  \n",
       "265  62.775000   NaN          NaN  \n",
       "\n",
       "[266 rows x 67 columns]"
      ]
     },
     "execution_count": 33,
     "metadata": {},
     "output_type": "execute_result"
    }
   ],
   "source": [
    "life_expectancy = life_expectancy.drop([\"Country Code\", \"Indicator Name\", \"Indicator Code\"], axis = 1)\n",
    "life_expectancy"
   ]
  },
  {
   "cell_type": "code",
   "execution_count": 34,
   "id": "079a7b10-f7c9-4e9c-93b4-684e8e9342e9",
   "metadata": {},
   "outputs": [
    {
     "data": {
      "text/html": [
       "<div>\n",
       "<style scoped>\n",
       "    .dataframe tbody tr th:only-of-type {\n",
       "        vertical-align: middle;\n",
       "    }\n",
       "\n",
       "    .dataframe tbody tr th {\n",
       "        vertical-align: top;\n",
       "    }\n",
       "\n",
       "    .dataframe thead th {\n",
       "        text-align: right;\n",
       "    }\n",
       "</style>\n",
       "<table border=\"1\" class=\"dataframe\">\n",
       "  <thead>\n",
       "    <tr style=\"text-align: right;\">\n",
       "      <th></th>\n",
       "      <th>Country Name</th>\n",
       "      <th>Year</th>\n",
       "      <th>Life_Expectancy</th>\n",
       "    </tr>\n",
       "  </thead>\n",
       "  <tbody>\n",
       "    <tr>\n",
       "      <th>0</th>\n",
       "      <td>Aruba</td>\n",
       "      <td>1960</td>\n",
       "      <td>64.049000</td>\n",
       "    </tr>\n",
       "    <tr>\n",
       "      <th>1</th>\n",
       "      <td>Africa Eastern and Southern</td>\n",
       "      <td>1960</td>\n",
       "      <td>44.169658</td>\n",
       "    </tr>\n",
       "    <tr>\n",
       "      <th>2</th>\n",
       "      <td>Afghanistan</td>\n",
       "      <td>1960</td>\n",
       "      <td>32.799000</td>\n",
       "    </tr>\n",
       "    <tr>\n",
       "      <th>3</th>\n",
       "      <td>Africa Western and Central</td>\n",
       "      <td>1960</td>\n",
       "      <td>37.779636</td>\n",
       "    </tr>\n",
       "    <tr>\n",
       "      <th>4</th>\n",
       "      <td>Angola</td>\n",
       "      <td>1960</td>\n",
       "      <td>37.933000</td>\n",
       "    </tr>\n",
       "    <tr>\n",
       "      <th>...</th>\n",
       "      <td>...</td>\n",
       "      <td>...</td>\n",
       "      <td>...</td>\n",
       "    </tr>\n",
       "    <tr>\n",
       "      <th>17551</th>\n",
       "      <td>Kosovo</td>\n",
       "      <td>Unnamed: 69</td>\n",
       "      <td>NaN</td>\n",
       "    </tr>\n",
       "    <tr>\n",
       "      <th>17552</th>\n",
       "      <td>Yemen, Rep.</td>\n",
       "      <td>Unnamed: 69</td>\n",
       "      <td>NaN</td>\n",
       "    </tr>\n",
       "    <tr>\n",
       "      <th>17553</th>\n",
       "      <td>South Africa</td>\n",
       "      <td>Unnamed: 69</td>\n",
       "      <td>NaN</td>\n",
       "    </tr>\n",
       "    <tr>\n",
       "      <th>17554</th>\n",
       "      <td>Zambia</td>\n",
       "      <td>Unnamed: 69</td>\n",
       "      <td>NaN</td>\n",
       "    </tr>\n",
       "    <tr>\n",
       "      <th>17555</th>\n",
       "      <td>Zimbabwe</td>\n",
       "      <td>Unnamed: 69</td>\n",
       "      <td>NaN</td>\n",
       "    </tr>\n",
       "  </tbody>\n",
       "</table>\n",
       "<p>17556 rows × 3 columns</p>\n",
       "</div>"
      ],
      "text/plain": [
       "                      Country Name         Year  Life_Expectancy\n",
       "0                            Aruba         1960        64.049000\n",
       "1      Africa Eastern and Southern         1960        44.169658\n",
       "2                      Afghanistan         1960        32.799000\n",
       "3       Africa Western and Central         1960        37.779636\n",
       "4                           Angola         1960        37.933000\n",
       "...                            ...          ...              ...\n",
       "17551                       Kosovo  Unnamed: 69              NaN\n",
       "17552                  Yemen, Rep.  Unnamed: 69              NaN\n",
       "17553                 South Africa  Unnamed: 69              NaN\n",
       "17554                       Zambia  Unnamed: 69              NaN\n",
       "17555                     Zimbabwe  Unnamed: 69              NaN\n",
       "\n",
       "[17556 rows x 3 columns]"
      ]
     },
     "execution_count": 34,
     "metadata": {},
     "output_type": "execute_result"
    }
   ],
   "source": [
    "#melt(wide to long) , id_vars argument keeps the column as it is. var_name-allows to customize the column name that holds the \"variable\", value_name=is a parameter used to specify the name of the new column that will contain the values from the melted columns.\n",
    "life_expectancy = life_expectancy.melt(id_vars=[\"Country Name\"],var_name=\"Year\", value_name = \"Life_Expectancy\") \n",
    "life_expectancy"
   ]
  },
  {
   "cell_type": "code",
   "execution_count": 35,
   "id": "6d8ec15b-0956-4503-aa84-e2b8c3d07705",
   "metadata": {},
   "outputs": [
    {
     "data": {
      "text/html": [
       "<div>\n",
       "<style scoped>\n",
       "    .dataframe tbody tr th:only-of-type {\n",
       "        vertical-align: middle;\n",
       "    }\n",
       "\n",
       "    .dataframe tbody tr th {\n",
       "        vertical-align: top;\n",
       "    }\n",
       "\n",
       "    .dataframe thead th {\n",
       "        text-align: right;\n",
       "    }\n",
       "</style>\n",
       "<table border=\"1\" class=\"dataframe\">\n",
       "  <thead>\n",
       "    <tr style=\"text-align: right;\">\n",
       "      <th></th>\n",
       "      <th>Country</th>\n",
       "      <th>Year</th>\n",
       "      <th>Life_Expectancy</th>\n",
       "    </tr>\n",
       "  </thead>\n",
       "  <tbody>\n",
       "    <tr>\n",
       "      <th>0</th>\n",
       "      <td>Aruba</td>\n",
       "      <td>1960</td>\n",
       "      <td>64.049000</td>\n",
       "    </tr>\n",
       "    <tr>\n",
       "      <th>1</th>\n",
       "      <td>Africa Eastern and Southern</td>\n",
       "      <td>1960</td>\n",
       "      <td>44.169658</td>\n",
       "    </tr>\n",
       "    <tr>\n",
       "      <th>2</th>\n",
       "      <td>Afghanistan</td>\n",
       "      <td>1960</td>\n",
       "      <td>32.799000</td>\n",
       "    </tr>\n",
       "    <tr>\n",
       "      <th>3</th>\n",
       "      <td>Africa Western and Central</td>\n",
       "      <td>1960</td>\n",
       "      <td>37.779636</td>\n",
       "    </tr>\n",
       "    <tr>\n",
       "      <th>4</th>\n",
       "      <td>Angola</td>\n",
       "      <td>1960</td>\n",
       "      <td>37.933000</td>\n",
       "    </tr>\n",
       "    <tr>\n",
       "      <th>...</th>\n",
       "      <td>...</td>\n",
       "      <td>...</td>\n",
       "      <td>...</td>\n",
       "    </tr>\n",
       "    <tr>\n",
       "      <th>17551</th>\n",
       "      <td>Kosovo</td>\n",
       "      <td>Unnamed: 69</td>\n",
       "      <td>NaN</td>\n",
       "    </tr>\n",
       "    <tr>\n",
       "      <th>17552</th>\n",
       "      <td>Yemen, Rep.</td>\n",
       "      <td>Unnamed: 69</td>\n",
       "      <td>NaN</td>\n",
       "    </tr>\n",
       "    <tr>\n",
       "      <th>17553</th>\n",
       "      <td>South Africa</td>\n",
       "      <td>Unnamed: 69</td>\n",
       "      <td>NaN</td>\n",
       "    </tr>\n",
       "    <tr>\n",
       "      <th>17554</th>\n",
       "      <td>Zambia</td>\n",
       "      <td>Unnamed: 69</td>\n",
       "      <td>NaN</td>\n",
       "    </tr>\n",
       "    <tr>\n",
       "      <th>17555</th>\n",
       "      <td>Zimbabwe</td>\n",
       "      <td>Unnamed: 69</td>\n",
       "      <td>NaN</td>\n",
       "    </tr>\n",
       "  </tbody>\n",
       "</table>\n",
       "<p>17556 rows × 3 columns</p>\n",
       "</div>"
      ],
      "text/plain": [
       "                           Country         Year  Life_Expectancy\n",
       "0                            Aruba         1960        64.049000\n",
       "1      Africa Eastern and Southern         1960        44.169658\n",
       "2                      Afghanistan         1960        32.799000\n",
       "3       Africa Western and Central         1960        37.779636\n",
       "4                           Angola         1960        37.933000\n",
       "...                            ...          ...              ...\n",
       "17551                       Kosovo  Unnamed: 69              NaN\n",
       "17552                  Yemen, Rep.  Unnamed: 69              NaN\n",
       "17553                 South Africa  Unnamed: 69              NaN\n",
       "17554                       Zambia  Unnamed: 69              NaN\n",
       "17555                     Zimbabwe  Unnamed: 69              NaN\n",
       "\n",
       "[17556 rows x 3 columns]"
      ]
     },
     "execution_count": 35,
     "metadata": {},
     "output_type": "execute_result"
    }
   ],
   "source": [
    "life_expectancy = life_expectancy.rename(columns = {\"Country Name\":\"Country\"})\n",
    "life_expectancy"
   ]
  },
  {
   "cell_type": "markdown",
   "id": "6d244e74-43a7-4431-a07e-05ac41ac7b6d",
   "metadata": {},
   "source": [
    "23. What was the first country with a life expectancy to exceed 80?"
   ]
  },
  {
   "cell_type": "code",
   "execution_count": 36,
   "id": "0652a8bd-7f1a-47f3-a793-d009cc3d1973",
   "metadata": {},
   "outputs": [
    {
     "data": {
      "text/plain": [
       "Country            Monaco\n",
       "Year                 1992\n",
       "Life_Expectancy    80.065\n",
       "Name: 8661, dtype: object"
      ]
     },
     "execution_count": 36,
     "metadata": {},
     "output_type": "execute_result"
    }
   ],
   "source": [
    "first_country = life_expectancy[life_expectancy[\"Life_Expectancy\"]>80].sort_values(\"Year\").iloc[0] #iloc[0,0] to get only country name\n",
    "first_country"
   ]
  },
  {
   "cell_type": "markdown",
   "id": "eec83308-a025-4d6c-8912-4ed687f6a4a5",
   "metadata": {},
   "source": [
    "24. Merge `gdp_df` and `life_expectancy`, keeping all countries and years that appear in both DataFrames. Save the result to a new DataFrame named `gdp_le`. If you get any errors in doing this, read them carefully and correct them. Look at the first five rows of your new data frame to confirm it merged correctly. Also, check the last five rows to make sure the data is clean and as expected."
   ]
  },
  {
   "cell_type": "code",
   "execution_count": 37,
   "id": "d7db7a8b-46e8-41dd-9aed-c7fca5216fd7",
   "metadata": {},
   "outputs": [
    {
     "data": {
      "text/html": [
       "<div>\n",
       "<style scoped>\n",
       "    .dataframe tbody tr th:only-of-type {\n",
       "        vertical-align: middle;\n",
       "    }\n",
       "\n",
       "    .dataframe tbody tr th {\n",
       "        vertical-align: top;\n",
       "    }\n",
       "\n",
       "    .dataframe thead th {\n",
       "        text-align: right;\n",
       "    }\n",
       "</style>\n",
       "<table border=\"1\" class=\"dataframe\">\n",
       "  <thead>\n",
       "    <tr style=\"text-align: right;\">\n",
       "      <th></th>\n",
       "      <th>Country</th>\n",
       "      <th>Year</th>\n",
       "      <th>GDP_Per_Capita</th>\n",
       "      <th>Continent</th>\n",
       "      <th>Life_Expectancy</th>\n",
       "    </tr>\n",
       "  </thead>\n",
       "  <tbody>\n",
       "    <tr>\n",
       "      <th>0</th>\n",
       "      <td>Afghanistan</td>\n",
       "      <td>2023</td>\n",
       "      <td>1992.424394</td>\n",
       "      <td>Asia</td>\n",
       "      <td>66.035</td>\n",
       "    </tr>\n",
       "    <tr>\n",
       "      <th>1</th>\n",
       "      <td>Afghanistan</td>\n",
       "      <td>2022</td>\n",
       "      <td>1981.710168</td>\n",
       "      <td>Asia</td>\n",
       "      <td>65.617</td>\n",
       "    </tr>\n",
       "    <tr>\n",
       "      <th>2</th>\n",
       "      <td>Afghanistan</td>\n",
       "      <td>2021</td>\n",
       "      <td>2144.166570</td>\n",
       "      <td>Asia</td>\n",
       "      <td>60.417</td>\n",
       "    </tr>\n",
       "    <tr>\n",
       "      <th>3</th>\n",
       "      <td>Afghanistan</td>\n",
       "      <td>2020</td>\n",
       "      <td>2769.685745</td>\n",
       "      <td>Asia</td>\n",
       "      <td>61.454</td>\n",
       "    </tr>\n",
       "    <tr>\n",
       "      <th>4</th>\n",
       "      <td>Afghanistan</td>\n",
       "      <td>2019</td>\n",
       "      <td>2927.245144</td>\n",
       "      <td>Asia</td>\n",
       "      <td>62.941</td>\n",
       "    </tr>\n",
       "  </tbody>\n",
       "</table>\n",
       "</div>"
      ],
      "text/plain": [
       "       Country  Year  GDP_Per_Capita Continent  Life_Expectancy\n",
       "0  Afghanistan  2023     1992.424394      Asia           66.035\n",
       "1  Afghanistan  2022     1981.710168      Asia           65.617\n",
       "2  Afghanistan  2021     2144.166570      Asia           60.417\n",
       "3  Afghanistan  2020     2769.685745      Asia           61.454\n",
       "4  Afghanistan  2019     2927.245144      Asia           62.941"
      ]
     },
     "execution_count": 37,
     "metadata": {},
     "output_type": "execute_result"
    }
   ],
   "source": [
    "gdp_le = pd.merge(gdp_df, life_expectancy, on = [\"Country\", \"Year\"], how =\"inner\")\n",
    "gdp_le.head()"
   ]
  },
  {
   "cell_type": "code",
   "execution_count": 38,
   "id": "2563989c-3a58-4b28-96ee-b56e59c905ee",
   "metadata": {},
   "outputs": [
    {
     "data": {
      "text/html": [
       "<div>\n",
       "<style scoped>\n",
       "    .dataframe tbody tr th:only-of-type {\n",
       "        vertical-align: middle;\n",
       "    }\n",
       "\n",
       "    .dataframe tbody tr th {\n",
       "        vertical-align: top;\n",
       "    }\n",
       "\n",
       "    .dataframe thead th {\n",
       "        text-align: right;\n",
       "    }\n",
       "</style>\n",
       "<table border=\"1\" class=\"dataframe\">\n",
       "  <thead>\n",
       "    <tr style=\"text-align: right;\">\n",
       "      <th></th>\n",
       "      <th>Country</th>\n",
       "      <th>Year</th>\n",
       "      <th>GDP_Per_Capita</th>\n",
       "      <th>Continent</th>\n",
       "      <th>Life_Expectancy</th>\n",
       "    </tr>\n",
       "  </thead>\n",
       "  <tbody>\n",
       "    <tr>\n",
       "      <th>5851</th>\n",
       "      <td>Zimbabwe</td>\n",
       "      <td>1994</td>\n",
       "      <td>3965.730986</td>\n",
       "      <td>Africa</td>\n",
       "      <td>52.537</td>\n",
       "    </tr>\n",
       "    <tr>\n",
       "      <th>5852</th>\n",
       "      <td>Zimbabwe</td>\n",
       "      <td>1993</td>\n",
       "      <td>3634.750494</td>\n",
       "      <td>Africa</td>\n",
       "      <td>53.976</td>\n",
       "    </tr>\n",
       "    <tr>\n",
       "      <th>5853</th>\n",
       "      <td>Zimbabwe</td>\n",
       "      <td>1992</td>\n",
       "      <td>3649.891947</td>\n",
       "      <td>Africa</td>\n",
       "      <td>55.602</td>\n",
       "    </tr>\n",
       "    <tr>\n",
       "      <th>5854</th>\n",
       "      <td>Zimbabwe</td>\n",
       "      <td>1991</td>\n",
       "      <td>4126.405247</td>\n",
       "      <td>Africa</td>\n",
       "      <td>57.037</td>\n",
       "    </tr>\n",
       "    <tr>\n",
       "      <th>5855</th>\n",
       "      <td>Zimbabwe</td>\n",
       "      <td>1990</td>\n",
       "      <td>4013.299059</td>\n",
       "      <td>Africa</td>\n",
       "      <td>58.319</td>\n",
       "    </tr>\n",
       "  </tbody>\n",
       "</table>\n",
       "</div>"
      ],
      "text/plain": [
       "       Country  Year  GDP_Per_Capita Continent  Life_Expectancy\n",
       "5851  Zimbabwe  1994     3965.730986    Africa           52.537\n",
       "5852  Zimbabwe  1993     3634.750494    Africa           53.976\n",
       "5853  Zimbabwe  1992     3649.891947    Africa           55.602\n",
       "5854  Zimbabwe  1991     4126.405247    Africa           57.037\n",
       "5855  Zimbabwe  1990     4013.299059    Africa           58.319"
      ]
     },
     "execution_count": 38,
     "metadata": {},
     "output_type": "execute_result"
    }
   ],
   "source": [
    "gdp_le.tail()"
   ]
  },
  {
   "cell_type": "markdown",
   "id": "4ec16e9c-f6c0-4c7f-be75-3679f15e4807",
   "metadata": {},
   "source": [
    "25. Create a new DataFrame, named `gdp_le_2021` by extracting data for the year 2021 from `gdp_le`. How many countries have a life expectancy of at least 80 in 2021?"
   ]
  },
  {
   "cell_type": "code",
   "execution_count": 39,
   "id": "8ee0b797-8a38-4276-ae02-27f2191d2aac",
   "metadata": {},
   "outputs": [
    {
     "data": {
      "text/html": [
       "<div>\n",
       "<style scoped>\n",
       "    .dataframe tbody tr th:only-of-type {\n",
       "        vertical-align: middle;\n",
       "    }\n",
       "\n",
       "    .dataframe tbody tr th {\n",
       "        vertical-align: top;\n",
       "    }\n",
       "\n",
       "    .dataframe thead th {\n",
       "        text-align: right;\n",
       "    }\n",
       "</style>\n",
       "<table border=\"1\" class=\"dataframe\">\n",
       "  <thead>\n",
       "    <tr style=\"text-align: right;\">\n",
       "      <th></th>\n",
       "      <th>Country</th>\n",
       "      <th>Year</th>\n",
       "      <th>GDP_Per_Capita</th>\n",
       "      <th>Continent</th>\n",
       "      <th>Life_Expectancy</th>\n",
       "    </tr>\n",
       "  </thead>\n",
       "  <tbody>\n",
       "    <tr>\n",
       "      <th>2</th>\n",
       "      <td>Afghanistan</td>\n",
       "      <td>2021</td>\n",
       "      <td>2144.166570</td>\n",
       "      <td>Asia</td>\n",
       "      <td>60.417</td>\n",
       "    </tr>\n",
       "    <tr>\n",
       "      <th>26</th>\n",
       "      <td>Albania</td>\n",
       "      <td>2021</td>\n",
       "      <td>16113.136519</td>\n",
       "      <td>Europe</td>\n",
       "      <td>76.844</td>\n",
       "    </tr>\n",
       "    <tr>\n",
       "      <th>60</th>\n",
       "      <td>Algeria</td>\n",
       "      <td>2021</td>\n",
       "      <td>14496.865470</td>\n",
       "      <td>Africa</td>\n",
       "      <td>75.208</td>\n",
       "    </tr>\n",
       "    <tr>\n",
       "      <th>94</th>\n",
       "      <td>Andorra</td>\n",
       "      <td>2021</td>\n",
       "      <td>59332.202910</td>\n",
       "      <td>Europe</td>\n",
       "      <td>82.331</td>\n",
       "    </tr>\n",
       "    <tr>\n",
       "      <th>128</th>\n",
       "      <td>Angola</td>\n",
       "      <td>2021</td>\n",
       "      <td>7408.126591</td>\n",
       "      <td>Africa</td>\n",
       "      <td>62.958</td>\n",
       "    </tr>\n",
       "    <tr>\n",
       "      <th>...</th>\n",
       "      <td>...</td>\n",
       "      <td>...</td>\n",
       "      <td>...</td>\n",
       "      <td>...</td>\n",
       "      <td>...</td>\n",
       "    </tr>\n",
       "    <tr>\n",
       "      <th>5692</th>\n",
       "      <td>Uzbekistan</td>\n",
       "      <td>2021</td>\n",
       "      <td>9247.643827</td>\n",
       "      <td>Asia</td>\n",
       "      <td>71.681</td>\n",
       "    </tr>\n",
       "    <tr>\n",
       "      <th>5726</th>\n",
       "      <td>Vanuatu</td>\n",
       "      <td>2021</td>\n",
       "      <td>3135.836649</td>\n",
       "      <td>Oceania</td>\n",
       "      <td>69.952</td>\n",
       "    </tr>\n",
       "    <tr>\n",
       "      <th>5760</th>\n",
       "      <td>West Bank and Gaza</td>\n",
       "      <td>2021</td>\n",
       "      <td>5663.121607</td>\n",
       "      <td>Asia</td>\n",
       "      <td>73.890</td>\n",
       "    </tr>\n",
       "    <tr>\n",
       "      <th>5790</th>\n",
       "      <td>Zambia</td>\n",
       "      <td>2021</td>\n",
       "      <td>3503.034914</td>\n",
       "      <td>Africa</td>\n",
       "      <td>62.363</td>\n",
       "    </tr>\n",
       "    <tr>\n",
       "      <th>5824</th>\n",
       "      <td>Zimbabwe</td>\n",
       "      <td>2021</td>\n",
       "      <td>3184.785451</td>\n",
       "      <td>Africa</td>\n",
       "      <td>60.135</td>\n",
       "    </tr>\n",
       "  </tbody>\n",
       "</table>\n",
       "<p>175 rows × 5 columns</p>\n",
       "</div>"
      ],
      "text/plain": [
       "                 Country  Year  GDP_Per_Capita Continent  Life_Expectancy\n",
       "2            Afghanistan  2021     2144.166570      Asia           60.417\n",
       "26               Albania  2021    16113.136519    Europe           76.844\n",
       "60               Algeria  2021    14496.865470    Africa           75.208\n",
       "94               Andorra  2021    59332.202910    Europe           82.331\n",
       "128               Angola  2021     7408.126591    Africa           62.958\n",
       "...                  ...   ...             ...       ...              ...\n",
       "5692          Uzbekistan  2021     9247.643827      Asia           71.681\n",
       "5726             Vanuatu  2021     3135.836649   Oceania           69.952\n",
       "5760  West Bank and Gaza  2021     5663.121607      Asia           73.890\n",
       "5790              Zambia  2021     3503.034914    Africa           62.363\n",
       "5824            Zimbabwe  2021     3184.785451    Africa           60.135\n",
       "\n",
       "[175 rows x 5 columns]"
      ]
     },
     "execution_count": 39,
     "metadata": {},
     "output_type": "execute_result"
    }
   ],
   "source": [
    "gdp_le_2021 = gdp_le[gdp_le[\"Year\"] == \"2021\"]\n",
    "gdp_le_2021"
   ]
  },
  {
   "cell_type": "code",
   "execution_count": 40,
   "id": "828b92ee-e9e6-4109-a356-219798994081",
   "metadata": {},
   "outputs": [
    {
     "data": {
      "text/plain": [
       "np.int64(33)"
      ]
     },
     "execution_count": 40,
     "metadata": {},
     "output_type": "execute_result"
    }
   ],
   "source": [
    "gdp_le_2021[gdp_le_2021[\"Life_Expectancy\"]>=80].count().iloc[0]"
   ]
  },
  {
   "cell_type": "markdown",
   "id": "5e1b42be-8bcb-46a5-961d-6ea2026c5252",
   "metadata": {},
   "source": [
    "26. Find the countries that had the top 3 largest GDP per capita figures for 2021. Create a [seaborn FacetGrid](https://seaborn.pydata.org/generated/seaborn.FacetGrid.html) showing the change in life expectancy over time for these three countries. Each individual figure in the facet grid will represent a single country."
   ]
  },
  {
   "cell_type": "code",
   "execution_count": 41,
   "id": "0d04b686-89fb-4e02-b065-7ccdf692be72",
   "metadata": {},
   "outputs": [
    {
     "data": {
      "text/html": [
       "<div>\n",
       "<style scoped>\n",
       "    .dataframe tbody tr th:only-of-type {\n",
       "        vertical-align: middle;\n",
       "    }\n",
       "\n",
       "    .dataframe tbody tr th {\n",
       "        vertical-align: top;\n",
       "    }\n",
       "\n",
       "    .dataframe thead th {\n",
       "        text-align: right;\n",
       "    }\n",
       "</style>\n",
       "<table border=\"1\" class=\"dataframe\">\n",
       "  <thead>\n",
       "    <tr style=\"text-align: right;\">\n",
       "      <th></th>\n",
       "      <th>Country</th>\n",
       "      <th>Year</th>\n",
       "      <th>GDP_Per_Capita</th>\n",
       "      <th>Continent</th>\n",
       "      <th>Life_Expectancy</th>\n",
       "    </tr>\n",
       "  </thead>\n",
       "  <tbody>\n",
       "    <tr>\n",
       "      <th>3061</th>\n",
       "      <td>Luxembourg</td>\n",
       "      <td>2021</td>\n",
       "      <td>135379.291201</td>\n",
       "      <td>Europe</td>\n",
       "      <td>82.597561</td>\n",
       "    </tr>\n",
       "    <tr>\n",
       "      <th>4673</th>\n",
       "      <td>Singapore</td>\n",
       "      <td>2021</td>\n",
       "      <td>131864.092336</td>\n",
       "      <td>Asia</td>\n",
       "      <td>83.092683</td>\n",
       "    </tr>\n",
       "    <tr>\n",
       "      <th>2434</th>\n",
       "      <td>Ireland</td>\n",
       "      <td>2021</td>\n",
       "      <td>118594.746862</td>\n",
       "      <td>Europe</td>\n",
       "      <td>82.253659</td>\n",
       "    </tr>\n",
       "  </tbody>\n",
       "</table>\n",
       "</div>"
      ],
      "text/plain": [
       "         Country  Year  GDP_Per_Capita Continent  Life_Expectancy\n",
       "3061  Luxembourg  2021   135379.291201    Europe        82.597561\n",
       "4673   Singapore  2021   131864.092336      Asia        83.092683\n",
       "2434     Ireland  2021   118594.746862    Europe        82.253659"
      ]
     },
     "execution_count": 41,
     "metadata": {},
     "output_type": "execute_result"
    }
   ],
   "source": [
    "gdp_le_2021.nlargest(3,\"GDP_Per_Capita\") \n",
    "#top_3_countries = gdp_le_2021.nlargest(3,\"GDP_Per_Capita\")[\"Country\"].to_list()\n",
    "#top_3_countries"
   ]
  },
  {
   "cell_type": "code",
   "execution_count": 42,
   "id": "b4f334b6-b6e2-4976-8a2e-6d5d89dee746",
   "metadata": {},
   "outputs": [
    {
     "data": {
      "text/html": [
       "<div>\n",
       "<style scoped>\n",
       "    .dataframe tbody tr th:only-of-type {\n",
       "        vertical-align: middle;\n",
       "    }\n",
       "\n",
       "    .dataframe tbody tr th {\n",
       "        vertical-align: top;\n",
       "    }\n",
       "\n",
       "    .dataframe thead th {\n",
       "        text-align: right;\n",
       "    }\n",
       "</style>\n",
       "<table border=\"1\" class=\"dataframe\">\n",
       "  <thead>\n",
       "    <tr style=\"text-align: right;\">\n",
       "      <th></th>\n",
       "      <th>Country</th>\n",
       "      <th>Year</th>\n",
       "      <th>GDP_Per_Capita</th>\n",
       "      <th>Continent</th>\n",
       "      <th>Life_Expectancy</th>\n",
       "    </tr>\n",
       "  </thead>\n",
       "  <tbody>\n",
       "    <tr>\n",
       "      <th>2432</th>\n",
       "      <td>Ireland</td>\n",
       "      <td>2023</td>\n",
       "      <td>115401.125283</td>\n",
       "      <td>Europe</td>\n",
       "      <td>82.860976</td>\n",
       "    </tr>\n",
       "    <tr>\n",
       "      <th>2433</th>\n",
       "      <td>Ireland</td>\n",
       "      <td>2022</td>\n",
       "      <td>125511.975962</td>\n",
       "      <td>Europe</td>\n",
       "      <td>82.509756</td>\n",
       "    </tr>\n",
       "    <tr>\n",
       "      <th>2434</th>\n",
       "      <td>Ireland</td>\n",
       "      <td>2021</td>\n",
       "      <td>118594.746862</td>\n",
       "      <td>Europe</td>\n",
       "      <td>82.253659</td>\n",
       "    </tr>\n",
       "    <tr>\n",
       "      <th>2435</th>\n",
       "      <td>Ireland</td>\n",
       "      <td>2020</td>\n",
       "      <td>102989.787335</td>\n",
       "      <td>Europe</td>\n",
       "      <td>82.456098</td>\n",
       "    </tr>\n",
       "    <tr>\n",
       "      <th>2436</th>\n",
       "      <td>Ireland</td>\n",
       "      <td>2019</td>\n",
       "      <td>97104.496828</td>\n",
       "      <td>Europe</td>\n",
       "      <td>82.702439</td>\n",
       "    </tr>\n",
       "    <tr>\n",
       "      <th>...</th>\n",
       "      <td>...</td>\n",
       "      <td>...</td>\n",
       "      <td>...</td>\n",
       "      <td>...</td>\n",
       "      <td>...</td>\n",
       "    </tr>\n",
       "    <tr>\n",
       "      <th>4700</th>\n",
       "      <td>Singapore</td>\n",
       "      <td>1994</td>\n",
       "      <td>56966.024277</td>\n",
       "      <td>Asia</td>\n",
       "      <td>76.197561</td>\n",
       "    </tr>\n",
       "    <tr>\n",
       "      <th>4701</th>\n",
       "      <td>Singapore</td>\n",
       "      <td>1993</td>\n",
       "      <td>52910.361238</td>\n",
       "      <td>Asia</td>\n",
       "      <td>76.046341</td>\n",
       "    </tr>\n",
       "    <tr>\n",
       "      <th>4702</th>\n",
       "      <td>Singapore</td>\n",
       "      <td>1992</td>\n",
       "      <td>48686.646237</td>\n",
       "      <td>Asia</td>\n",
       "      <td>75.946341</td>\n",
       "    </tr>\n",
       "    <tr>\n",
       "      <th>4703</th>\n",
       "      <td>Singapore</td>\n",
       "      <td>1991</td>\n",
       "      <td>47047.639052</td>\n",
       "      <td>Asia</td>\n",
       "      <td>75.646341</td>\n",
       "    </tr>\n",
       "    <tr>\n",
       "      <th>4704</th>\n",
       "      <td>Singapore</td>\n",
       "      <td>1990</td>\n",
       "      <td>45371.006902</td>\n",
       "      <td>Asia</td>\n",
       "      <td>75.295122</td>\n",
       "    </tr>\n",
       "  </tbody>\n",
       "</table>\n",
       "<p>102 rows × 5 columns</p>\n",
       "</div>"
      ],
      "text/plain": [
       "        Country  Year  GDP_Per_Capita Continent  Life_Expectancy\n",
       "2432    Ireland  2023   115401.125283    Europe        82.860976\n",
       "2433    Ireland  2022   125511.975962    Europe        82.509756\n",
       "2434    Ireland  2021   118594.746862    Europe        82.253659\n",
       "2435    Ireland  2020   102989.787335    Europe        82.456098\n",
       "2436    Ireland  2019    97104.496828    Europe        82.702439\n",
       "...         ...   ...             ...       ...              ...\n",
       "4700  Singapore  1994    56966.024277      Asia        76.197561\n",
       "4701  Singapore  1993    52910.361238      Asia        76.046341\n",
       "4702  Singapore  1992    48686.646237      Asia        75.946341\n",
       "4703  Singapore  1991    47047.639052      Asia        75.646341\n",
       "4704  Singapore  1990    45371.006902      Asia        75.295122\n",
       "\n",
       "[102 rows x 5 columns]"
      ]
     },
     "execution_count": 42,
     "metadata": {},
     "output_type": "execute_result"
    }
   ],
   "source": [
    "gdp_le_3high_GDP = gdp_le[gdp_le[\"Country\"].isin([\"Luxembourg\", \"Singapore\", \"Ireland\"])] #isin(top_3_countries)\n",
    "gdp_le_3high_GDP\n"
   ]
  },
  {
   "cell_type": "code",
   "execution_count": 43,
   "id": "4a165e3c-656b-414f-a1cd-dede1bd7502e",
   "metadata": {},
   "outputs": [
    {
     "data": {
      "image/png": "[encoded data removed]",
      "text/plain": [
       "<Figure size 900x600 with 3 Axes>"
      ]
     },
     "metadata": {},
     "output_type": "display_data"
    }
   ],
   "source": [
    "g = sns.FacetGrid(gdp_le_3high_GDP, col =\"Country\", col_wrap=2,aspect =1.5, height=3)  #facetgrid creates multiplot grid, col_wrap=arranges columns into multiple rows for better readability, col = creates seperate column of plots for each value of the specific variable\n",
    "g.map(sns.lineplot, 'Year', 'Life_Expectancy')\n",
    "g.set(xlim =(\"1990\", \"2023\"),xticks=[\"1990\",\"1995\",\"2000\",\"2005\",\"2010\",\"2015\",\"2020\",\"2023\"]);\n"
   ]
  },
  {
   "cell_type": "markdown",
   "id": "164cb620-468f-4be9-aef1-ff820ae3cec6",
   "metadata": {},
   "source": [
    "27. Create a scatter plot of Life Expectancy vs GDP per Capita for the year 2021. What do you notice?"
   ]
  },
  {
   "cell_type": "code",
   "execution_count": 44,
   "id": "834e2d23-2442-4ea4-b676-efd44eb49d21",
   "metadata": {},
   "outputs": [
    {
     "data": {
      "image/png": "[encoded data removed]",
      "text/plain": [
       "<Figure size 640x480 with 1 Axes>"
      ]
     },
     "metadata": {},
     "output_type": "display_data"
    }
   ],
   "source": [
    "plt.scatter(gdp_le_2021[\"Life_Expectancy\"], gdp_le_2021[\"GDP_Per_Capita\"], alpha = 0.7)\n",
    "plt.xlabel(\"Life Expectency\")\n",
    "plt.ylabel(\"GDP Per Capita\")\n",
    "plt.title(\"Life Expectency vs GDP Per Capita for 2021\")\n",
    "plt.show();"
   ]
  },
  {
   "cell_type": "markdown",
   "id": "6aa48efc-3f18-43f6-8785-38292a14b94f",
   "metadata": {},
   "source": [
    "For the year 2021 when the Life Expectency increses the GDP per Capita is also increased."
   ]
  },
  {
   "cell_type": "markdown",
   "id": "5a84d1d0-059d-4647-826a-eb8a161a4bd0",
   "metadata": {},
   "source": [
    "28. Find the correlation between Life Expectancy and GDP per Capita for the year 2021. What is the meaning of this number?"
   ]
  },
  {
   "cell_type": "code",
   "execution_count": 45,
   "id": "8c2e9ec1-513f-45e6-badb-37f5409dd8bf",
   "metadata": {},
   "outputs": [
    {
     "data": {
      "text/plain": [
       "np.float64(0.7527849922684222)"
      ]
     },
     "execution_count": 45,
     "metadata": {},
     "output_type": "execute_result"
    }
   ],
   "source": [
    "gdp_le_2021[\"Life_Expectancy\"].corr(gdp_le_2021[\"GDP_Per_Capita\"])"
   ]
  },
  {
   "cell_type": "markdown",
   "id": "323ad1f3-959f-4c17-bf28-00f9263c5a37",
   "metadata": {},
   "source": [
    "For the year 2021 Life Expectancy and GDP per Capita have the good positive correlation."
   ]
  },
  {
   "cell_type": "markdown",
   "id": "5cda7a0c-bbc9-4512-8163-6bf97860df88",
   "metadata": {},
   "source": [
    "29. Add a column to `gdp_le_2021` and calculate the logarithm of GDP per capita. Find the correlation between the log of GDP per capita and life expectancy. How does this compare to the calculation in the previous part? Look at a scatter plot to see if the result of this calculation makes sense."
   ]
  },
  {
   "cell_type": "code",
   "execution_count": 46,
   "id": "ce5a7732-0849-41ea-a458-9c6fd868941c",
   "metadata": {},
   "outputs": [
    {
     "name": "stderr",
     "output_type": "stream",
     "text": [
      "/var/folders/n1/v3s1h2t95hb_nmn96mg49sbm0000gn/T/ipykernel_1222/4110867954.py:1: SettingWithCopyWarning: \n",
      "A value is trying to be set on a copy of a slice from a DataFrame.\n",
      "Try using .loc[row_indexer,col_indexer] = value instead\n",
      "\n",
      "See the caveats in the documentation: https://pandas.pydata.org/pandas-docs/stable/user_guide/indexing.html#returning-a-view-versus-a-copy\n",
      "  gdp_le_2021.loc[:,\"log_GDP_Per_Capita\"] = np.log(gdp_le_2021[\"GDP_Per_Capita\"])\n"
     ]
    },
    {
     "data": {
      "text/html": [
       "<div>\n",
       "<style scoped>\n",
       "    .dataframe tbody tr th:only-of-type {\n",
       "        vertical-align: middle;\n",
       "    }\n",
       "\n",
       "    .dataframe tbody tr th {\n",
       "        vertical-align: top;\n",
       "    }\n",
       "\n",
       "    .dataframe thead th {\n",
       "        text-align: right;\n",
       "    }\n",
       "</style>\n",
       "<table border=\"1\" class=\"dataframe\">\n",
       "  <thead>\n",
       "    <tr style=\"text-align: right;\">\n",
       "      <th></th>\n",
       "      <th>Country</th>\n",
       "      <th>Year</th>\n",
       "      <th>GDP_Per_Capita</th>\n",
       "      <th>Continent</th>\n",
       "      <th>Life_Expectancy</th>\n",
       "      <th>log_GDP_Per_Capita</th>\n",
       "    </tr>\n",
       "  </thead>\n",
       "  <tbody>\n",
       "    <tr>\n",
       "      <th>2</th>\n",
       "      <td>Afghanistan</td>\n",
       "      <td>2021</td>\n",
       "      <td>2144.166570</td>\n",
       "      <td>Asia</td>\n",
       "      <td>60.417</td>\n",
       "      <td>7.670506</td>\n",
       "    </tr>\n",
       "    <tr>\n",
       "      <th>26</th>\n",
       "      <td>Albania</td>\n",
       "      <td>2021</td>\n",
       "      <td>16113.136519</td>\n",
       "      <td>Europe</td>\n",
       "      <td>76.844</td>\n",
       "      <td>9.687390</td>\n",
       "    </tr>\n",
       "    <tr>\n",
       "      <th>60</th>\n",
       "      <td>Algeria</td>\n",
       "      <td>2021</td>\n",
       "      <td>14496.865470</td>\n",
       "      <td>Africa</td>\n",
       "      <td>75.208</td>\n",
       "      <td>9.581688</td>\n",
       "    </tr>\n",
       "    <tr>\n",
       "      <th>94</th>\n",
       "      <td>Andorra</td>\n",
       "      <td>2021</td>\n",
       "      <td>59332.202910</td>\n",
       "      <td>Europe</td>\n",
       "      <td>82.331</td>\n",
       "      <td>10.990907</td>\n",
       "    </tr>\n",
       "    <tr>\n",
       "      <th>128</th>\n",
       "      <td>Angola</td>\n",
       "      <td>2021</td>\n",
       "      <td>7408.126591</td>\n",
       "      <td>Africa</td>\n",
       "      <td>62.958</td>\n",
       "      <td>8.910333</td>\n",
       "    </tr>\n",
       "    <tr>\n",
       "      <th>...</th>\n",
       "      <td>...</td>\n",
       "      <td>...</td>\n",
       "      <td>...</td>\n",
       "      <td>...</td>\n",
       "      <td>...</td>\n",
       "      <td>...</td>\n",
       "    </tr>\n",
       "    <tr>\n",
       "      <th>5692</th>\n",
       "      <td>Uzbekistan</td>\n",
       "      <td>2021</td>\n",
       "      <td>9247.643827</td>\n",
       "      <td>Asia</td>\n",
       "      <td>71.681</td>\n",
       "      <td>9.132124</td>\n",
       "    </tr>\n",
       "    <tr>\n",
       "      <th>5726</th>\n",
       "      <td>Vanuatu</td>\n",
       "      <td>2021</td>\n",
       "      <td>3135.836649</td>\n",
       "      <td>Oceania</td>\n",
       "      <td>69.952</td>\n",
       "      <td>8.050651</td>\n",
       "    </tr>\n",
       "    <tr>\n",
       "      <th>5760</th>\n",
       "      <td>West Bank and Gaza</td>\n",
       "      <td>2021</td>\n",
       "      <td>5663.121607</td>\n",
       "      <td>Asia</td>\n",
       "      <td>73.890</td>\n",
       "      <td>8.641731</td>\n",
       "    </tr>\n",
       "    <tr>\n",
       "      <th>5790</th>\n",
       "      <td>Zambia</td>\n",
       "      <td>2021</td>\n",
       "      <td>3503.034914</td>\n",
       "      <td>Africa</td>\n",
       "      <td>62.363</td>\n",
       "      <td>8.161385</td>\n",
       "    </tr>\n",
       "    <tr>\n",
       "      <th>5824</th>\n",
       "      <td>Zimbabwe</td>\n",
       "      <td>2021</td>\n",
       "      <td>3184.785451</td>\n",
       "      <td>Africa</td>\n",
       "      <td>60.135</td>\n",
       "      <td>8.066140</td>\n",
       "    </tr>\n",
       "  </tbody>\n",
       "</table>\n",
       "<p>175 rows × 6 columns</p>\n",
       "</div>"
      ],
      "text/plain": [
       "                 Country  Year  GDP_Per_Capita Continent  Life_Expectancy  \\\n",
       "2            Afghanistan  2021     2144.166570      Asia           60.417   \n",
       "26               Albania  2021    16113.136519    Europe           76.844   \n",
       "60               Algeria  2021    14496.865470    Africa           75.208   \n",
       "94               Andorra  2021    59332.202910    Europe           82.331   \n",
       "128               Angola  2021     7408.126591    Africa           62.958   \n",
       "...                  ...   ...             ...       ...              ...   \n",
       "5692          Uzbekistan  2021     9247.643827      Asia           71.681   \n",
       "5726             Vanuatu  2021     3135.836649   Oceania           69.952   \n",
       "5760  West Bank and Gaza  2021     5663.121607      Asia           73.890   \n",
       "5790              Zambia  2021     3503.034914    Africa           62.363   \n",
       "5824            Zimbabwe  2021     3184.785451    Africa           60.135   \n",
       "\n",
       "      log_GDP_Per_Capita  \n",
       "2               7.670506  \n",
       "26              9.687390  \n",
       "60              9.581688  \n",
       "94             10.990907  \n",
       "128             8.910333  \n",
       "...                  ...  \n",
       "5692            9.132124  \n",
       "5726            8.050651  \n",
       "5760            8.641731  \n",
       "5790            8.161385  \n",
       "5824            8.066140  \n",
       "\n",
       "[175 rows x 6 columns]"
      ]
     },
     "execution_count": 46,
     "metadata": {},
     "output_type": "execute_result"
    }
   ],
   "source": [
    "gdp_le_2021.loc[:,\"log_GDP_Per_Capita\"] = np.log(gdp_le_2021[\"GDP_Per_Capita\"]) \n",
    "gdp_le_2021"
   ]
  },
  {
   "cell_type": "code",
   "execution_count": 47,
   "id": "a72face2-c66a-462f-bacf-1dc1900dc74e",
   "metadata": {},
   "outputs": [
    {
     "data": {
      "text/plain": [
       "np.float64(0.8490647859471865)"
      ]
     },
     "execution_count": 47,
     "metadata": {},
     "output_type": "execute_result"
    }
   ],
   "source": [
    "gdp_le_2021[\"Life_Expectancy\"].corr(gdp_le_2021[\"log_GDP_Per_Capita\"])"
   ]
  },
  {
   "cell_type": "code",
   "execution_count": 48,
   "id": "04ab6eb2-b458-420a-83cc-80c6060aaea0",
   "metadata": {},
   "outputs": [
    {
     "data": {
      "image/png": "[encoded data removed]",
      "text/plain": [
       "<Figure size 640x480 with 1 Axes>"
      ]
     },
     "metadata": {},
     "output_type": "display_data"
    }
   ],
   "source": [
    "plt.scatter(gdp_le_2021[\"Life_Expectancy\"], gdp_le_2021[\"log_GDP_Per_Capita\"], alpha = 0.7)\n",
    "plt.xlabel(\"Life Expectency\")\n",
    "plt.ylabel(\"log_GDP_Per_Capita\")\n",
    "plt.title(\"Life Expectency vs log GDP Per Capita for 2021\")\n",
    "plt.show();"
   ]
  },
  {
   "cell_type": "markdown",
   "id": "f254d5f0-1863-4dd5-a281-0f36d8ae514c",
   "metadata": {},
   "source": [
    "* For the year 2021 Life Expectancy and log GDP per Capita are strongly correlated.\n",
    "* when the life expectency increases , the log GDP per capita also incrases.\n",
    "* The scatterplot for life expectency vs log GDP per capita looks linear, where as the plot for life expectency vs GDP per capita curved."
   ]
  },
  {
   "cell_type": "markdown",
   "id": "ffaa6b83-d7d4-49f9-8675-d350e55961c2",
   "metadata": {},
   "source": [
    "### Bonus: Solo Exploration:\n",
    "1. Choose and download another data set from the UN data [http://data.un.org/Explorer.aspx](http://data.un.org/Explorer.aspx) to explore. You may want to combine your new dataset with one or both of the datasets that you already worked with. Report any interesting correlations or trends that you find. "
   ]
  },
  {
   "cell_type": "markdown",
   "id": "49773b16-ad73-4024-a835-66b2b5902743",
   "metadata": {},
   "source": [
    "This set of exercises is designed to give you a chance to try out some more advanced features of the pandas library. These exercises will be using the gdp_le DataFrame that you created for the regular exercises, meaning that it will have columns for Country, Year, GDP_Per_Capita, Continent, and Life_Expectancy."
   ]
  },
  {
   "cell_type": "markdown",
   "id": "969eec8e-9288-4180-9bec-01ef298b6b48",
   "metadata": {},
   "source": [
    "1.Let's compare the median life expectacy for each across all of the years of data that we have. Perform a groupby on both Year and Continent and then aggregate using the median and save the results to a new object."
   ]
  },
  {
   "cell_type": "code",
   "execution_count": 49,
   "id": "68834701-6acf-4be5-a3fb-f951118b4729",
   "metadata": {},
   "outputs": [
    {
     "data": {
      "text/plain": [
       "Year  Continent    \n",
       "1990  Africa            2431.892671\n",
       "      Asia              7113.819734\n",
       "      Europe           26110.299835\n",
       "      North America    10957.760919\n",
       "      Oceania           3990.926713\n",
       "      South America     9980.978644\n",
       "1991  Africa            2415.915976\n",
       "      Asia              6504.272969\n",
       "      Europe           25098.284796\n",
       "      North America    10924.420931\n",
       "Name: GDP_Per_Capita, dtype: float64"
      ]
     },
     "execution_count": 49,
     "metadata": {},
     "output_type": "execute_result"
    }
   ],
   "source": [
    "med_expectency = gdp_le.groupby([\"Year\",\"Continent\"])[\"GDP_Per_Capita\"].median()\n",
    "med_expectency.head(10)\n"
   ]
  },
  {
   "cell_type": "markdown",
   "id": "47269706-aceb-4990-bac3-228584a52b59",
   "metadata": {},
   "source": [
    "a. What type of object results from this?"
   ]
  },
  {
   "cell_type": "markdown",
   "id": "9401b5bc-cceb-4a85-9e08-268041cdd738",
   "metadata": {},
   "source": [
    "since it has only one column, it is a series.\n"
   ]
  },
  {
   "cell_type": "markdown",
   "id": "d3100454-085e-410c-ab8d-5a05422aef14",
   "metadata": {},
   "source": [
    "b. Look at the index of the resulting object. What do you notice about it?"
   ]
  },
  {
   "cell_type": "markdown",
   "id": "35fb7471-0ac5-4b92-b855-92a32e19ca5b",
   "metadata": {},
   "source": [
    "This series contains multiindex with Year and Continent."
   ]
  },
  {
   "cell_type": "markdown",
   "id": "d73d6153-d260-4cc7-9061-d3ee251a1bad",
   "metadata": {},
   "source": [
    "c. Use .loc to select the median life expectancy for Asia in 2010."
   ]
  },
  {
   "cell_type": "code",
   "execution_count": 50,
   "id": "e6e1d0f4-f48f-46a9-bfef-17c8ef2b7a0a",
   "metadata": {},
   "outputs": [
    {
     "data": {
      "text/plain": [
       "np.float64(10126.545111007494)"
      ]
     },
     "execution_count": 50,
     "metadata": {},
     "output_type": "execute_result"
    }
   ],
   "source": [
    "med_expectency.loc[(\"2010\",\"Asia\")]"
   ]
  },
  {
   "cell_type": "markdown",
   "id": "db83d5b8-257b-4a69-8cf6-25ace87c70c4",
   "metadata": {},
   "source": [
    "d. Use .loc to select the median life expectancy for both Asia and Africa in 2010."
   ]
  },
  {
   "cell_type": "code",
   "execution_count": 51,
   "id": "5216c06d-8c4f-4d88-b9aa-035c72e50119",
   "metadata": {},
   "outputs": [
    {
     "data": {
      "text/plain": [
       "Year  Continent\n",
       "2010  Asia         10126.545111\n",
       "      Africa        3243.575236\n",
       "Name: GDP_Per_Capita, dtype: float64"
      ]
     },
     "execution_count": 51,
     "metadata": {},
     "output_type": "execute_result"
    }
   ],
   "source": [
    "med_expectency.loc[(\"2010\",[\"Asia\",\"Africa\"])]"
   ]
  },
  {
   "cell_type": "markdown",
   "id": "32718e46-1d7a-4e67-8467-58a0d6dcf11b",
   "metadata": {},
   "source": [
    "e. Use .loc to select the values for all continents for the year 2010."
   ]
  },
  {
   "cell_type": "code",
   "execution_count": 52,
   "id": "9ea78702-909c-4460-a061-3dcf99e60e8d",
   "metadata": {},
   "outputs": [
    {
     "data": {
      "text/plain": [
       "Continent\n",
       "Africa            3243.575236\n",
       "Asia             10126.545111\n",
       "Europe           37056.768228\n",
       "North America    18960.856789\n",
       "Oceania           5488.750131\n",
       "South America    14012.030323\n",
       "Name: GDP_Per_Capita, dtype: float64"
      ]
     },
     "execution_count": 52,
     "metadata": {},
     "output_type": "execute_result"
    }
   ],
   "source": [
    "med_expectency.loc[\"2010\", :]"
   ]
  },
  {
   "cell_type": "markdown",
   "id": "e2055445-1664-4fcc-9526-9f7cec559668",
   "metadata": {},
   "source": [
    "f. Use .loc to select the median life expectancy for Asia across all years. Hint: One way to do this is to use the swaplevels method."
   ]
  },
  {
   "cell_type": "code",
   "execution_count": 53,
   "id": "7fad7e2a-0f25-4b28-a3b2-6263ef4f0710",
   "metadata": {},
   "outputs": [
    {
     "data": {
      "text/plain": [
       "Year\n",
       "1990     7113.819734\n",
       "1991     6504.272969\n",
       "1992     5743.145730\n",
       "1993     6095.283606\n",
       "1994     5931.234734\n",
       "1995     5969.669641\n",
       "1996     6419.369819\n",
       "1997     6897.002366\n",
       "1998     6032.622126\n",
       "1999     6176.235485\n",
       "2000     6242.497699\n",
       "2001     6210.275030\n",
       "2002     6395.906170\n",
       "2003     6670.052212\n",
       "2004     7065.289070\n",
       "2005     7476.295190\n",
       "2006     8007.330846\n",
       "2007     8602.170414\n",
       "2008     9138.840878\n",
       "2009     9240.984922\n",
       "2010    10126.545111\n",
       "2011    10968.789076\n",
       "2012    11716.505450\n",
       "2013    12540.046153\n",
       "2014    13223.394537\n",
       "2015    13422.903271\n",
       "2016    13871.880187\n",
       "2017    14409.584098\n",
       "2018    14703.980124\n",
       "2019    15070.765325\n",
       "2020    13433.294159\n",
       "2021    13887.473943\n",
       "2022    13727.493482\n",
       "2023    15056.373386\n",
       "Name: GDP_Per_Capita, dtype: float64"
      ]
     },
     "execution_count": 53,
     "metadata": {},
     "output_type": "execute_result"
    }
   ],
   "source": [
    "idx = pd.IndexSlice  #Create an IndexSlice for easier multi-index selection\n",
    "med_expectency.loc[idx[:,\"Asia\"]]\n"
   ]
  },
  {
   "cell_type": "code",
   "execution_count": 54,
   "id": "0a71a116-fd13-45a7-aaea-1bd2883dc2ca",
   "metadata": {},
   "outputs": [
    {
     "data": {
      "text/plain": [
       "Year\n",
       "1990     7113.819734\n",
       "1991     6504.272969\n",
       "1992     5743.145730\n",
       "1993     6095.283606\n",
       "1994     5931.234734\n",
       "1995     5969.669641\n",
       "1996     6419.369819\n",
       "1997     6897.002366\n",
       "1998     6032.622126\n",
       "1999     6176.235485\n",
       "2000     6242.497699\n",
       "2001     6210.275030\n",
       "2002     6395.906170\n",
       "2003     6670.052212\n",
       "2004     7065.289070\n",
       "2005     7476.295190\n",
       "2006     8007.330846\n",
       "2007     8602.170414\n",
       "2008     9138.840878\n",
       "2009     9240.984922\n",
       "2010    10126.545111\n",
       "2011    10968.789076\n",
       "2012    11716.505450\n",
       "2013    12540.046153\n",
       "2014    13223.394537\n",
       "2015    13422.903271\n",
       "2016    13871.880187\n",
       "2017    14409.584098\n",
       "2018    14703.980124\n",
       "2019    15070.765325\n",
       "2020    13433.294159\n",
       "2021    13887.473943\n",
       "2022    13727.493482\n",
       "2023    15056.373386\n",
       "Name: GDP_Per_Capita, dtype: float64"
      ]
     },
     "execution_count": 54,
     "metadata": {},
     "output_type": "execute_result"
    }
   ],
   "source": [
    "med_expectency_swap= (\n",
    "    med_expectency\n",
    "    .swaplevel(0,1)\n",
    "    .loc[\"Asia\"]\n",
    "\n",
    ")\n",
    "med_expectency_swap.head()"
   ]
  },
  {
   "cell_type": "markdown",
   "id": "982b272f-f518-4cae-b156-e6a1dcda246b",
   "metadata": {},
   "source": [
    "2.Group gdp_le by both Year and Continent and find the min, median, and max values for both gdp per capita and life expectancy. Hint: You may want to use the agg method."
   ]
  },
  {
   "cell_type": "code",
   "execution_count": 55,
   "id": "49d96b6f-1912-443d-b3f1-50c6ed74482c",
   "metadata": {},
   "outputs": [
    {
     "data": {
      "text/html": [
       "<div>\n",
       "<style scoped>\n",
       "    .dataframe tbody tr th:only-of-type {\n",
       "        vertical-align: middle;\n",
       "    }\n",
       "\n",
       "    .dataframe tbody tr th {\n",
       "        vertical-align: top;\n",
       "    }\n",
       "\n",
       "    .dataframe thead tr th {\n",
       "        text-align: left;\n",
       "    }\n",
       "\n",
       "    .dataframe thead tr:last-of-type th {\n",
       "        text-align: right;\n",
       "    }\n",
       "</style>\n",
       "<table border=\"1\" class=\"dataframe\">\n",
       "  <thead>\n",
       "    <tr>\n",
       "      <th></th>\n",
       "      <th></th>\n",
       "      <th colspan=\"3\" halign=\"left\">GDP_Per_Capita</th>\n",
       "      <th colspan=\"3\" halign=\"left\">Life_Expectancy</th>\n",
       "    </tr>\n",
       "    <tr>\n",
       "      <th></th>\n",
       "      <th></th>\n",
       "      <th>min</th>\n",
       "      <th>max</th>\n",
       "      <th>median</th>\n",
       "      <th>min</th>\n",
       "      <th>max</th>\n",
       "      <th>median</th>\n",
       "    </tr>\n",
       "    <tr>\n",
       "      <th>Year</th>\n",
       "      <th>Continent</th>\n",
       "      <th></th>\n",
       "      <th></th>\n",
       "      <th></th>\n",
       "      <th></th>\n",
       "      <th></th>\n",
       "      <th></th>\n",
       "    </tr>\n",
       "  </thead>\n",
       "  <tbody>\n",
       "    <tr>\n",
       "      <th rowspan=\"5\" valign=\"top\">1990</th>\n",
       "      <th>Africa</th>\n",
       "      <td>547.622781</td>\n",
       "      <td>23884.810700</td>\n",
       "      <td>2431.892671</td>\n",
       "      <td>37.644</td>\n",
       "      <td>69.404878</td>\n",
       "      <td>53.684000</td>\n",
       "    </tr>\n",
       "    <tr>\n",
       "      <th>Asia</th>\n",
       "      <td>775.328254</td>\n",
       "      <td>108057.042464</td>\n",
       "      <td>7113.819734</td>\n",
       "      <td>45.185</td>\n",
       "      <td>78.837073</td>\n",
       "      <td>65.736500</td>\n",
       "    </tr>\n",
       "    <tr>\n",
       "      <th>Europe</th>\n",
       "      <td>2411.112898</td>\n",
       "      <td>80947.492013</td>\n",
       "      <td>26110.299835</td>\n",
       "      <td>62.750</td>\n",
       "      <td>78.961000</td>\n",
       "      <td>74.370671</td>\n",
       "    </tr>\n",
       "    <tr>\n",
       "      <th>North America</th>\n",
       "      <td>3946.365646</td>\n",
       "      <td>79109.890650</td>\n",
       "      <td>10957.760919</td>\n",
       "      <td>53.215</td>\n",
       "      <td>77.436585</td>\n",
       "      <td>70.471000</td>\n",
       "    </tr>\n",
       "    <tr>\n",
       "      <th>Oceania</th>\n",
       "      <td>2213.539539</td>\n",
       "      <td>36182.384132</td>\n",
       "      <td>3990.926713</td>\n",
       "      <td>59.102</td>\n",
       "      <td>76.994634</td>\n",
       "      <td>65.056000</td>\n",
       "    </tr>\n",
       "  </tbody>\n",
       "</table>\n",
       "</div>"
      ],
      "text/plain": [
       "                   GDP_Per_Capita                               \\\n",
       "                              min            max        median   \n",
       "Year Continent                                                   \n",
       "1990 Africa            547.622781   23884.810700   2431.892671   \n",
       "     Asia              775.328254  108057.042464   7113.819734   \n",
       "     Europe           2411.112898   80947.492013  26110.299835   \n",
       "     North America    3946.365646   79109.890650  10957.760919   \n",
       "     Oceania          2213.539539   36182.384132   3990.926713   \n",
       "\n",
       "                   Life_Expectancy                        \n",
       "                               min        max     median  \n",
       "Year Continent                                            \n",
       "1990 Africa                 37.644  69.404878  53.684000  \n",
       "     Asia                   45.185  78.837073  65.736500  \n",
       "     Europe                 62.750  78.961000  74.370671  \n",
       "     North America          53.215  77.436585  70.471000  \n",
       "     Oceania                59.102  76.994634  65.056000  "
      ]
     },
     "execution_count": 55,
     "metadata": {},
     "output_type": "execute_result"
    }
   ],
   "source": [
    "gdp_le_agg = gdp_le.groupby([\"Year\", \"Continent\"])[[\"GDP_Per_Capita\",\"Life_Expectancy\"]].agg(['min','max','median'])\n",
    "gdp_le_agg.head()"
   ]
  },
  {
   "cell_type": "markdown",
   "id": "3c23a9ff-708e-4cd0-86a4-71757c775a9e",
   "metadata": {},
   "source": [
    "a. Look at the columns of the resulting object. What do you notice?"
   ]
  },
  {
   "cell_type": "markdown",
   "id": "8efa7a89-b877-47bd-9149-fa5bfd878338",
   "metadata": {},
   "source": [
    "The resulting object has two level column structure.one is GDP_Per_Capita , Life_Expectancy columns , within these coluns it has aggregation columns."
   ]
  },
  {
   "cell_type": "markdown",
   "id": "2d730a78-5fc1-434f-ae4c-408da95dc6a1",
   "metadata": {},
   "source": [
    "b. Select the median gdp per capita value for Asia in 2010."
   ]
  },
  {
   "cell_type": "code",
   "execution_count": 56,
   "id": "4c3b6bef-2fa9-453d-9f8e-03100a12afb9",
   "metadata": {},
   "outputs": [
    {
     "data": {
      "text/plain": [
       "np.float64(10126.545111007494)"
      ]
     },
     "execution_count": 56,
     "metadata": {},
     "output_type": "execute_result"
    }
   ],
   "source": [
    "gdp_le_agg.loc[(\"2010\",\"Asia\"),(\"GDP_Per_Capita\",\"median\")] "
   ]
  },
  {
   "cell_type": "markdown",
   "id": "7e9ee9ce-5cdc-43a7-a60b-645242da2016",
   "metadata": {},
   "source": [
    "3.In this question, we'll see how the median gdp per capita has changed over time. Start by creating a Series, gdp_median_per_year by grouping by the Year variable and calculating the median gdp per capita."
   ]
  },
  {
   "cell_type": "code",
   "execution_count": 57,
   "id": "866b1f5a-d6c3-46ef-ab4f-bb32fac2b1f9",
   "metadata": {},
   "outputs": [
    {
     "data": {
      "text/plain": [
       "Year\n",
       "1990    8907.111220\n",
       "1991    9084.996632\n",
       "1992    9081.540512\n",
       "1993    9337.957201\n",
       "1994    8865.072704\n",
       "Name: GDP_Per_Capita, dtype: float64"
      ]
     },
     "execution_count": 57,
     "metadata": {},
     "output_type": "execute_result"
    }
   ],
   "source": [
    "gdp_median_per_year = gdp_le.groupby(\"Year\")[\"GDP_Per_Capita\"].median()\n",
    "gdp_median_per_year.head()"
   ]
  },
  {
   "cell_type": "markdown",
   "id": "2f745d12-c845-4bbf-bcd2-3293e4b753f1",
   "metadata": {},
   "source": [
    "a. Convert gdp_median_per_year to a DataFrame by using the reset_index method."
   ]
  },
  {
   "cell_type": "code",
   "execution_count": 58,
   "id": "6edfe3bb-accf-4d34-a81c-3bb3894e1d23",
   "metadata": {},
   "outputs": [
    {
     "data": {
      "text/html": [
       "<div>\n",
       "<style scoped>\n",
       "    .dataframe tbody tr th:only-of-type {\n",
       "        vertical-align: middle;\n",
       "    }\n",
       "\n",
       "    .dataframe tbody tr th {\n",
       "        vertical-align: top;\n",
       "    }\n",
       "\n",
       "    .dataframe thead th {\n",
       "        text-align: right;\n",
       "    }\n",
       "</style>\n",
       "<table border=\"1\" class=\"dataframe\">\n",
       "  <thead>\n",
       "    <tr style=\"text-align: right;\">\n",
       "      <th></th>\n",
       "      <th>Year</th>\n",
       "      <th>GDP_Per_Capita</th>\n",
       "    </tr>\n",
       "  </thead>\n",
       "  <tbody>\n",
       "    <tr>\n",
       "      <th>0</th>\n",
       "      <td>1990</td>\n",
       "      <td>8907.111220</td>\n",
       "    </tr>\n",
       "    <tr>\n",
       "      <th>1</th>\n",
       "      <td>1991</td>\n",
       "      <td>9084.996632</td>\n",
       "    </tr>\n",
       "    <tr>\n",
       "      <th>2</th>\n",
       "      <td>1992</td>\n",
       "      <td>9081.540512</td>\n",
       "    </tr>\n",
       "    <tr>\n",
       "      <th>3</th>\n",
       "      <td>1993</td>\n",
       "      <td>9337.957201</td>\n",
       "    </tr>\n",
       "    <tr>\n",
       "      <th>4</th>\n",
       "      <td>1994</td>\n",
       "      <td>8865.072704</td>\n",
       "    </tr>\n",
       "  </tbody>\n",
       "</table>\n",
       "</div>"
      ],
      "text/plain": [
       "   Year  GDP_Per_Capita\n",
       "0  1990     8907.111220\n",
       "1  1991     9084.996632\n",
       "2  1992     9081.540512\n",
       "3  1993     9337.957201\n",
       "4  1994     8865.072704"
      ]
     },
     "execution_count": 58,
     "metadata": {},
     "output_type": "execute_result"
    }
   ],
   "source": [
    "gdp_median_per_year = gdp_median_per_year.reset_index()\n",
    "gdp_median_per_year.head()"
   ]
  },
  {
   "cell_type": "markdown",
   "id": "12b81f6e-46cc-4d35-a606-7d144b1256d2",
   "metadata": {},
   "source": [
    "b. The shift method will allow you to compare values across rows. Use this method to create a new column showing the change in gdp per capita since the prior year."
   ]
  },
  {
   "cell_type": "code",
   "execution_count": 59,
   "id": "ca3769ac-5abc-464b-9f13-19773647e86c",
   "metadata": {},
   "outputs": [
    {
     "data": {
      "text/html": [
       "<div>\n",
       "<style scoped>\n",
       "    .dataframe tbody tr th:only-of-type {\n",
       "        vertical-align: middle;\n",
       "    }\n",
       "\n",
       "    .dataframe tbody tr th {\n",
       "        vertical-align: top;\n",
       "    }\n",
       "\n",
       "    .dataframe thead th {\n",
       "        text-align: right;\n",
       "    }\n",
       "</style>\n",
       "<table border=\"1\" class=\"dataframe\">\n",
       "  <thead>\n",
       "    <tr style=\"text-align: right;\">\n",
       "      <th></th>\n",
       "      <th>Year</th>\n",
       "      <th>GDP_Per_Capita</th>\n",
       "      <th>GDP_Per_Capita_new</th>\n",
       "      <th>GDP_Per_Capita_change</th>\n",
       "    </tr>\n",
       "  </thead>\n",
       "  <tbody>\n",
       "    <tr>\n",
       "      <th>0</th>\n",
       "      <td>1990</td>\n",
       "      <td>8907.111220</td>\n",
       "      <td>0.000000</td>\n",
       "      <td>8907.111220</td>\n",
       "    </tr>\n",
       "    <tr>\n",
       "      <th>1</th>\n",
       "      <td>1991</td>\n",
       "      <td>9084.996632</td>\n",
       "      <td>8907.111220</td>\n",
       "      <td>177.885413</td>\n",
       "    </tr>\n",
       "    <tr>\n",
       "      <th>2</th>\n",
       "      <td>1992</td>\n",
       "      <td>9081.540512</td>\n",
       "      <td>9084.996632</td>\n",
       "      <td>-3.456121</td>\n",
       "    </tr>\n",
       "    <tr>\n",
       "      <th>3</th>\n",
       "      <td>1993</td>\n",
       "      <td>9337.957201</td>\n",
       "      <td>9081.540512</td>\n",
       "      <td>256.416689</td>\n",
       "    </tr>\n",
       "    <tr>\n",
       "      <th>4</th>\n",
       "      <td>1994</td>\n",
       "      <td>8865.072704</td>\n",
       "      <td>9337.957201</td>\n",
       "      <td>-472.884497</td>\n",
       "    </tr>\n",
       "  </tbody>\n",
       "</table>\n",
       "</div>"
      ],
      "text/plain": [
       "   Year  GDP_Per_Capita  GDP_Per_Capita_new  GDP_Per_Capita_change\n",
       "0  1990     8907.111220            0.000000            8907.111220\n",
       "1  1991     9084.996632         8907.111220             177.885413\n",
       "2  1992     9081.540512         9084.996632              -3.456121\n",
       "3  1993     9337.957201         9081.540512             256.416689\n",
       "4  1994     8865.072704         9337.957201            -472.884497"
      ]
     },
     "execution_count": 59,
     "metadata": {},
     "output_type": "execute_result"
    }
   ],
   "source": [
    "gdp_median_per_year[\"GDP_Per_Capita_new\"] = gdp_median_per_year[\"GDP_Per_Capita\"].shift(periods = 1,fill_value=0)\n",
    "gdp_median_per_year[\"GDP_Per_Capita_change\"] = gdp_median_per_year[\"GDP_Per_Capita\"]- gdp_median_per_year[\"GDP_Per_Capita_new\"]\n",
    "gdp_median_per_year.head()\n"
   ]
  },
  {
   "cell_type": "markdown",
   "id": "48001727-bfa3-4b5e-9efc-bd8ed30a01c0",
   "metadata": {},
   "source": [
    "c. How many times was there a drop in median gdp per capita from one year to the next?"
   ]
  },
  {
   "cell_type": "code",
   "execution_count": 60,
   "id": "71cd25f7-2d80-4adc-be78-2ccc8f8f8dfb",
   "metadata": {},
   "outputs": [
    {
     "data": {
      "text/plain": [
       "np.int64(7)"
      ]
     },
     "execution_count": 60,
     "metadata": {},
     "output_type": "execute_result"
    }
   ],
   "source": [
    "(gdp_median_per_year[\"GDP_Per_Capita_change\"]<0).sum()"
   ]
  },
  {
   "cell_type": "markdown",
   "id": "67adc45b-f1e1-41db-a092-4892d4cc454c",
   "metadata": {},
   "source": [
    "4.Now, let's expand on the prior question to find the change in GDP from year to year for each country."
   ]
  },
  {
   "cell_type": "markdown",
   "id": "bd47c8a2-ce9f-4215-be1d-146bd8b8eec3",
   "metadata": {},
   "source": [
    "a. Add a new column to the gdp_le DataFrame showing the change in gdp per capita from the prior year for that country. Hint: You can combine groupby with the shift method."
   ]
  },
  {
   "cell_type": "code",
   "execution_count": 61,
   "id": "0930bf3c-1566-480c-b66c-ba9a80a43693",
   "metadata": {},
   "outputs": [
    {
     "data": {
      "text/html": [
       "<div>\n",
       "<style scoped>\n",
       "    .dataframe tbody tr th:only-of-type {\n",
       "        vertical-align: middle;\n",
       "    }\n",
       "\n",
       "    .dataframe tbody tr th {\n",
       "        vertical-align: top;\n",
       "    }\n",
       "\n",
       "    .dataframe thead th {\n",
       "        text-align: right;\n",
       "    }\n",
       "</style>\n",
       "<table border=\"1\" class=\"dataframe\">\n",
       "  <thead>\n",
       "    <tr style=\"text-align: right;\">\n",
       "      <th></th>\n",
       "      <th>Country</th>\n",
       "      <th>Year</th>\n",
       "      <th>GDP_Per_Capita</th>\n",
       "      <th>Continent</th>\n",
       "      <th>Life_Expectancy</th>\n",
       "    </tr>\n",
       "  </thead>\n",
       "  <tbody>\n",
       "    <tr>\n",
       "      <th>0</th>\n",
       "      <td>Afghanistan</td>\n",
       "      <td>2023</td>\n",
       "      <td>1992.424394</td>\n",
       "      <td>Asia</td>\n",
       "      <td>66.035</td>\n",
       "    </tr>\n",
       "    <tr>\n",
       "      <th>1</th>\n",
       "      <td>Afghanistan</td>\n",
       "      <td>2022</td>\n",
       "      <td>1981.710168</td>\n",
       "      <td>Asia</td>\n",
       "      <td>65.617</td>\n",
       "    </tr>\n",
       "    <tr>\n",
       "      <th>2</th>\n",
       "      <td>Afghanistan</td>\n",
       "      <td>2021</td>\n",
       "      <td>2144.166570</td>\n",
       "      <td>Asia</td>\n",
       "      <td>60.417</td>\n",
       "    </tr>\n",
       "    <tr>\n",
       "      <th>3</th>\n",
       "      <td>Afghanistan</td>\n",
       "      <td>2020</td>\n",
       "      <td>2769.685745</td>\n",
       "      <td>Asia</td>\n",
       "      <td>61.454</td>\n",
       "    </tr>\n",
       "    <tr>\n",
       "      <th>4</th>\n",
       "      <td>Afghanistan</td>\n",
       "      <td>2019</td>\n",
       "      <td>2927.245144</td>\n",
       "      <td>Asia</td>\n",
       "      <td>62.941</td>\n",
       "    </tr>\n",
       "  </tbody>\n",
       "</table>\n",
       "</div>"
      ],
      "text/plain": [
       "       Country  Year  GDP_Per_Capita Continent  Life_Expectancy\n",
       "0  Afghanistan  2023     1992.424394      Asia           66.035\n",
       "1  Afghanistan  2022     1981.710168      Asia           65.617\n",
       "2  Afghanistan  2021     2144.166570      Asia           60.417\n",
       "3  Afghanistan  2020     2769.685745      Asia           61.454\n",
       "4  Afghanistan  2019     2927.245144      Asia           62.941"
      ]
     },
     "execution_count": 61,
     "metadata": {},
     "output_type": "execute_result"
    }
   ],
   "source": [
    "gdp_le.head()"
   ]
  },
  {
   "cell_type": "code",
   "execution_count": 62,
   "id": "17b2fdb5-6486-48d9-9b2a-dd74a3344615",
   "metadata": {},
   "outputs": [
    {
     "data": {
      "text/plain": [
       "0               NaN\n",
       "1       1992.424394\n",
       "2       1981.710168\n",
       "3       2144.166570\n",
       "4       2769.685745\n",
       "           ...     \n",
       "5851    3935.280057\n",
       "5852    3965.730986\n",
       "5853    3634.750494\n",
       "5854    3649.891947\n",
       "5855    4126.405247\n",
       "Name: GDP_Per_Capita, Length: 5856, dtype: float64"
      ]
     },
     "execution_count": 62,
     "metadata": {},
     "output_type": "execute_result"
    }
   ],
   "source": [
    "gdp_le.groupby(\"Country\")[\"GDP_Per_Capita\"].shift(periods=1)"
   ]
  }
 ],
 "metadata": {
  "kernelspec": {
   "display_name": "Python [conda env:base] *",
   "language": "python",
   "name": "conda-base-py"
  },
  "language_info": {
   "codemirror_mode": {
    "name": "ipython",
    "version": 3
   },
   "file_extension": ".py",
   "mimetype": "text/x-python",
   "name": "python",
   "nbconvert_exporter": "python",
   "pygments_lexer": "ipython3",
   "version": "3.13.5"
  }
 },
 "nbformat": 4,
 "nbformat_minor": 5
}
